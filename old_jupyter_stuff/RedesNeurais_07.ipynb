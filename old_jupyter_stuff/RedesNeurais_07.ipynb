{
  "nbformat": 4,
  "nbformat_minor": 0,
  "metadata": {
    "colab": {
      "name": "RedesNeurais_07.ipynb",
      "version": "0.3.2",
      "provenance": [],
      "collapsed_sections": [
        "-2zlu2G1AIF6"
      ],
      "include_colab_link": true
    },
    "kernelspec": {
      "name": "python3",
      "display_name": "Python 3"
    }
  },
  "cells": [
    {
      "cell_type": "markdown",
      "metadata": {
        "id": "view-in-github",
        "colab_type": "text"
      },
      "source": [
        "<a href=\"https://colab.research.google.com/github/fpelogia/Optimization-and-Neural-Networks/blob/master/RedesNeurais_07.ipynb\" target=\"_parent\"><img src=\"https://colab.research.google.com/assets/colab-badge.svg\" alt=\"Open In Colab\"/></a>"
      ]
    },
    {
      "cell_type": "markdown",
      "metadata": {
        "id": "-2zlu2G1AIF6",
        "colab_type": "text"
      },
      "source": [
        "#Redes Neurais\n",
        "[Voltar](https://colab.research.google.com/drive/1zGxVatpjlZtdtECAikT1eKP7EQ50m-Ur)"
      ]
    },
    {
      "cell_type": "markdown",
      "metadata": {
        "id": "xpPAZJs0hrvN",
        "colab_type": "text"
      },
      "source": [
        "#7 - Aumentando o número de camadas ocultas"
      ]
    },
    {
      "cell_type": "code",
      "metadata": {
        "id": "tuiwJNEzAPrU",
        "colab_type": "code",
        "colab": {}
      },
      "source": [
        "import numpy as np\n",
        "import matplotlib.pyplot as plt\n",
        "import numpy as np\n",
        "from numpy import linalg as la \n",
        "%matplotlib inline\n",
        "\n",
        "epsilon = 0.0001\n",
        "\n",
        "def reLu(x):\n",
        "    return 0.5*(x + np.sqrt(x**2 + epsilon))\n",
        "\n",
        "\n",
        "def sigmoid(x):\n",
        "    return 1/(1+np.exp(-1*x)) \n",
        "\n",
        "class Layer():\n",
        "    def __init__(self, n_values, func = \"none\"):\n",
        "        self.n_values = n_values\n",
        "        self.func = func\n",
        "        self.arr = np.random.randn(n_values)\n",
        "        self.biases = np.random.randn(n_values)\n",
        "\n",
        "    \n",
        "class NeuralNetwork():\n",
        "  \n",
        "    def __init__(self, layers, learning_rate = 0.0005 ,optimizer = \"backpropagation\"):\n",
        "        self.layers = layers\n",
        "        self.n_layers = len(layers)\n",
        "        self.optimizer = optimizer\n",
        "        self.learning_rate = learning_rate\n",
        "        #inicializa as matrizes com os pesos\n",
        "        for i in range(len(self.layers) - 1):\n",
        "            n_curr = self.layers[i].n_values\n",
        "            n_next = self.layers[i+1].n_values\n",
        "            self.layers[i].weights = np.random.randn(n_curr,n_next)\n",
        "\n",
        "    def train_step(self, input, target):\n",
        "\n",
        "        self.layers[0].arr = input\n",
        "\n",
        "\n",
        "        # Feed-Forward\n",
        "        for i in range(self.n_layers):\n",
        "            \n",
        "            if i!= 0:\n",
        "                self.layers[i].arr = np.dot(self.layers[i-1].arr, self.layers[i-1].weights)        \n",
        "                self.layers[i].arr = np.add(self.layers[i].arr, self.layers[i].biases)\n",
        "                \n",
        "                if self.layers[i].func == \"sigmoid\":\n",
        "                    for j in range(self.layers[i].n_values):\n",
        "                        self.layers[i].arr[0][j] = sigmoid(self.layers[i].arr[0][j]) \n",
        "                elif self.layers[i].func == \"relu\":\n",
        "                    for j in range(self.layers[i].n_values):\n",
        "                        self.layers[i].arr[0][j] = reLu(self.layers[i].arr[0][j]) \n",
        "                else:\n",
        "                    if not self.layers[i].func == \"linear\":\n",
        "                        print(\"ERROR: unknown activation function {}\".format(self.layers[i].func))\n",
        "\n",
        "        output = self.layers[self.n_layers-1].arr\n",
        "\n",
        "        # Otimização\n",
        "   \n",
        "        if self.optimizer == \"backpropagation\":\n",
        "\n",
        "            for i in range(self.n_layers-1,0,-1):\n",
        "                if i == self.n_layers-1:\n",
        "                    error = target - output\n",
        "                else:\n",
        "                    error = np.dot(error, np.transpose(self.layers[i].weights))\n",
        "\n",
        "                if self.layers[i].func == \"linear\":\n",
        "                    d_func = 1\n",
        "                elif self.layers[i].func == \"sigmoid\":\n",
        "                    d_func = self.layers[i].arr*(1 - self.layers[i].arr)\n",
        "                elif self.layers[i].func == \"relu\":\n",
        "                    d_func = 0.5*(self.layers[i].arr/np.sqrt(self.layers[i].arr**2 + epsilon) + 1)\n",
        "                else:\n",
        "                    print(\"ERROR: unknown activation function {}\".format(self.layers[self.n_layers - 1].func))\n",
        "\n",
        "                gradient = self.learning_rate * error * d_func\n",
        "                \n",
        "                \n",
        "                self.layers[i].biases = np.add(self.layers[i].biases, gradient)\n",
        "\n",
        "                weights_deltas = np.dot(np.transpose(self.layers[i-1].arr), gradient)\n",
        "                \n",
        "                self.layers[i-1].weights = np.add(self.layers[i-1].weights, weights_deltas)\n",
        "        # IMPLEMENTAR PARA MÉTODO DO GRADIENTE TBM\n",
        "\n",
        "    def predict(self, input):\n",
        "\n",
        "        self.layers[0].arr = input\n",
        "\n",
        "        # Feed-Forward\n",
        "        for i in range(len(self.layers)):\n",
        "            if i!= 0:\n",
        "                self.layers[i].arr = np.dot(self.layers[i-1].arr, self.layers[i-1].weights)        \n",
        "                self.layers[i].arr = np.add(self.layers[i].arr, self.layers[i].biases)\n",
        "                \n",
        "                if self.layers[i].func == \"sigmoid\":\n",
        "                    for j in range(self.layers[i].n_values):\n",
        "                        self.layers[i].arr[0][j] = sigmoid(self.layers[i].arr[0][j]) \n",
        "                elif self.layers[i].func == \"relu\":\n",
        "                    for j in range(self.layers[i].n_values):\n",
        "                        self.layers[i].arr[0][j] = reLu(self.layers[i].arr[0][j]) \n",
        "                else:\n",
        "                    if not self.layers[i].func == \"linear\":\n",
        "                        print(\"ERROR: unknown activation function {}\".format(self.layers[i].func))\n",
        "\n",
        "        output = self.layers[self.n_layers-1].arr\n",
        "        return output\n",
        "    \n",
        "    \n",
        "    def train(self, trainning_set, labels, epochs=1000):\n",
        "        for _ in range(epochs):\n",
        "            index  = np.random.randint(len(trainning_set))\n",
        "            self.train_step(trainning_set[index], labels[index]) \n",
        "            \n",
        "    def train2(self, X, y,ep = 1000):\n",
        "        for i in range(ep):\n",
        "          for j in range(len(X)):\n",
        "            self.train_step(X[j], y[j])\n",
        "    \n",
        "            \n",
        "\n",
        "\n",
        "\n",
        "\n"
      ],
      "execution_count": 0,
      "outputs": []
    },
    {
      "cell_type": "markdown",
      "metadata": {
        "id": "O3zluayLALJ5",
        "colab_type": "text"
      },
      "source": [
        "##7.1 - Duas camadas ocultas\n",
        "![rede](https://drive.google.com/uc?id=1yfezKD8NpPxqYm8XH7wCkh77jyIvI9sN)"
      ]
    },
    {
      "cell_type": "code",
      "metadata": {
        "id": "9qQk2QI1-CIj",
        "colab_type": "code",
        "colab": {}
      },
      "source": [
        "\n",
        "layers = [Layer(1), Layer(2,\"relu\"), Layer(2,\"relu\"),Layer(1,\"linear\")]\n",
        "X = np.array([1.0, 2.0, 3.0, 4.0, 5.0])\n",
        "y = X**2\n",
        "\n",
        "mynn = NeuralNetwork(layers, 0.0001, optimizer= \"backpropagation\")\n",
        "mynn.train2(X, y)\n",
        "\n",
        "ex = np.linspace(0,100,100)\n",
        "ey = [mynn.predict(val)[0] for val in ex]\n",
        "\n",
        "\n",
        "    \n",
        "plt.axis([0,10,0,30])\n",
        "\n",
        "\n",
        "plt.scatter(X,y,s = 30, c = \"red\")\n",
        "plt.plot(ex,ey)\n"
      ],
      "execution_count": 0,
      "outputs": []
    },
    {
      "cell_type": "markdown",
      "metadata": {
        "id": "YebZ1qbH5LVL",
        "colab_type": "text"
      },
      "source": [
        "#TESTES"
      ]
    },
    {
      "cell_type": "code",
      "metadata": {
        "id": "v2cpEnrn5O7E",
        "colab_type": "code",
        "outputId": "bbdb9c77-f673-4aa9-d732-6d184da53f69",
        "colab": {
          "base_uri": "https://localhost:8080/",
          "height": 286
        }
      },
      "source": [
        "\n",
        "\n",
        "layers = [Layer(1), Layer(2,\"relu\"), Layer(2,\"relu\"),Layer(2,\"relu\"),Layer(1,\"relu\")]\n",
        "X = np.array([1.0, 2.0, 3.0, 4.0, 5.0])\n",
        "y = X**2\n",
        "\n",
        "mynn = NeuralNetwork(layers, 0.0001, optimizer= \"backpropagation\")\n",
        "mynn.train(X, y, 10000)\n",
        "\n",
        "ex = np.linspace(0,100,100)\n",
        "ey = [mynn.predict(val)[0] for val in ex]\n",
        "\n",
        "\n",
        "    \n",
        "plt.axis([0,10,0,30])\n",
        "\n",
        "\n",
        "plt.scatter(X,y,s = 30, c = \"red\")\n",
        "plt.plot(ex,ey)\n",
        "\n"
      ],
      "execution_count": 0,
      "outputs": [
        {
          "output_type": "execute_result",
          "data": {
            "text/plain": [
              "[<matplotlib.lines.Line2D at 0x7f5c84d077f0>]"
            ]
          },
          "metadata": {
            "tags": []
          },
          "execution_count": 70
        },
        {
          "output_type": "display_data",
          "data": {
            "image/png": "[encoded data removed]",
            "text/plain": [
              "<Figure size 432x288 with 1 Axes>"
            ]
          },
          "metadata": {
            "tags": []
          }
        }
      ]
    }
  ]
}
