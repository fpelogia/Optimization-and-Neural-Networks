{
 "cells": [
  {
   "cell_type": "markdown",
   "metadata": {},
   "source": [
    "# Fazendo como fizemos no papel\n",
    "$\\text{Seja } E = (\\bar{O} - y)$\n",
    "\n",
    "$ \\alpha = E \\cdot f'(O)$\n",
    "\n",
    "$\\begin{pmatrix} \\bar{e} \\\\ \\bar{f} \\end{pmatrix} = \\begin{pmatrix} e \\\\ f \\end{pmatrix} - t \\cdot \\alpha \\cdot \\bar{H}$\n",
    "\n",
    "\n",
    "$ V = \\begin{pmatrix} e \\\\ f \\end{pmatrix} \\odot f_2'(H)$\n",
    "\n",
    "$\\begin{pmatrix} \\bar{a} \\\\ \\bar{b} \\\\ \\bar{c} \\\\ \\bar{d}  \\end{pmatrix} = \\begin{pmatrix} a \\\\ b \\\\ c \\\\ d  \\end{pmatrix} \n",
    "- t \\cdot \\alpha \\cdot \\begin{pmatrix} V \\\\ V \\end{pmatrix} \\odot \\begin{pmatrix} I_1 \\\\ I_1 \\\\ I_2 \\\\ I_2  \\end{pmatrix}  $"
   ]
  },
  {
   "cell_type": "code",
   "execution_count": 279,
   "metadata": {},
   "outputs": [
    {
     "name": "stdout",
     "output_type": "stream",
     "text": [
      "out:  [[1.00156574e-09]]\n"
     ]
    }
   ],
   "source": [
    "import numpy as np\n",
    "\n",
    "sigm = lambda x: 1/(1 + np.exp(-x))\n",
    "d_sigm = lambda x: np.multiply(sigm(x),(np.ones(x.shape) - sigm(x)))\n",
    "t = 100  #parece ficar bom com 100 (faz sentido??)\n",
    "\n",
    "y = 0.0\n",
    "w1 = np.matrix([[1,2],[3,4]]) \n",
    "w2 = np.matrix([5,6])\n",
    "\n",
    "\n",
    "for i in range(1000):\n",
    "    I = np.transpose(np.matrix([1,1]))\n",
    "    \n",
    "    H_unac = np.dot(w1,I) # unac indica que é a versao não ativada da camada\n",
    "    H = sigm(H_unac)\n",
    "    O_unac = np.dot(w2,H)\n",
    "    O = sigm(O_unac)\n",
    "\n",
    "\n",
    "    #corrigindo w2\n",
    "    error = O - y\n",
    "    alpha = error*d_sigm(O_unac)\n",
    "    grad = np.transpose(np.multiply(alpha , H))\n",
    "    w2 = w2 - t*grad\n",
    "    #print(w2)\n",
    "\n",
    "    #corrigindo w1\n",
    "    w1_flat = np.matrix.flatten(w1) #deixando w1 em uma coluna só\n",
    "    w1_flat = np.transpose(w1_flat)\n",
    "\n",
    "    \n",
    "    V = np.multiply(np.transpose(w2),d_sigm(H_unac))\n",
    "    \n",
    "\n",
    "    # print(w1)\n",
    "    # print(w1_flat)\n",
    "    w1_flat = w1_flat - np.multiply(t*alpha , np.multiply(np.bmat('V;V'),np.transpose(np.repeat(I,2))))\n",
    "    w1 = w1_flat.reshape(w1.shape)\n",
    "\n",
    "print('out: ',O)"
   ]
  },
  {
   "cell_type": "markdown",
   "metadata": {},
   "source": [
    "\n",
    "<img src=\"NN_REG.png\" width=\"400\">"
   ]
  },
  {
   "cell_type": "code",
   "execution_count": 99,
   "metadata": {},
   "outputs": [
    {
     "name": "stdout",
     "output_type": "stream",
     "text": [
      "inp 1 , y 1, count 0\n"
     ]
    },
    {
     "ename": "LinAlgError",
     "evalue": "Last 2 dimensions of the array must be square",
     "output_type": "error",
     "traceback": [
      "\u001b[0;31m---------------------------------------------------------------------------\u001b[0m",
      "\u001b[0;31mLinAlgError\u001b[0m                               Traceback (most recent call last)",
      "\u001b[0;32m<ipython-input-99-f252959edaf0>\u001b[0m in \u001b[0;36m<module>\u001b[0;34m\u001b[0m\n\u001b[1;32m     32\u001b[0m \u001b[0;34m\u001b[0m\u001b[0m\n\u001b[1;32m     33\u001b[0m         \u001b[0mH_unac\u001b[0m \u001b[0;34m=\u001b[0m \u001b[0mnp\u001b[0m\u001b[0;34m.\u001b[0m\u001b[0mdot\u001b[0m\u001b[0;34m(\u001b[0m\u001b[0mw1\u001b[0m\u001b[0;34m,\u001b[0m\u001b[0mI\u001b[0m\u001b[0;34m)\u001b[0m \u001b[0;31m# unac indica que é a versao não ativada da camada\u001b[0m\u001b[0;34m\u001b[0m\u001b[0;34m\u001b[0m\u001b[0m\n\u001b[0;32m---> 34\u001b[0;31m         \u001b[0mH\u001b[0m \u001b[0;34m=\u001b[0m \u001b[0mfunc\u001b[0m\u001b[0;34m(\u001b[0m\u001b[0mH_unac\u001b[0m\u001b[0;34m)\u001b[0m\u001b[0;34m\u001b[0m\u001b[0;34m\u001b[0m\u001b[0m\n\u001b[0m\u001b[1;32m     35\u001b[0m         \u001b[0mO_unac\u001b[0m \u001b[0;34m=\u001b[0m \u001b[0mnp\u001b[0m\u001b[0;34m.\u001b[0m\u001b[0mdot\u001b[0m\u001b[0;34m(\u001b[0m\u001b[0mw2\u001b[0m\u001b[0;34m,\u001b[0m\u001b[0mH\u001b[0m\u001b[0;34m)\u001b[0m\u001b[0;34m\u001b[0m\u001b[0;34m\u001b[0m\u001b[0m\n\u001b[1;32m     36\u001b[0m         \u001b[0mO\u001b[0m \u001b[0;34m=\u001b[0m \u001b[0mfunc\u001b[0m\u001b[0;34m(\u001b[0m\u001b[0mO_unac\u001b[0m\u001b[0;34m)\u001b[0m\u001b[0;34m\u001b[0m\u001b[0;34m\u001b[0m\u001b[0m\n",
      "\u001b[0;32m<ipython-input-99-f252959edaf0>\u001b[0m in \u001b[0;36m<lambda>\u001b[0;34m(x)\u001b[0m\n\u001b[1;32m      5\u001b[0m \u001b[0mepsilon\u001b[0m \u001b[0;34m=\u001b[0m \u001b[0;36m0.0001\u001b[0m\u001b[0;34m\u001b[0m\u001b[0;34m\u001b[0m\u001b[0m\n\u001b[1;32m      6\u001b[0m \u001b[0;34m\u001b[0m\u001b[0m\n\u001b[0;32m----> 7\u001b[0;31m \u001b[0mfunc\u001b[0m \u001b[0;34m=\u001b[0m \u001b[0;32mlambda\u001b[0m \u001b[0mx\u001b[0m\u001b[0;34m:\u001b[0m \u001b[0;36m0.5\u001b[0m\u001b[0;34m*\u001b[0m\u001b[0;34m(\u001b[0m\u001b[0mx\u001b[0m \u001b[0;34m+\u001b[0m \u001b[0mnp\u001b[0m\u001b[0;34m.\u001b[0m\u001b[0msqrt\u001b[0m\u001b[0;34m(\u001b[0m\u001b[0mx\u001b[0m\u001b[0;34m**\u001b[0m\u001b[0;36m2\u001b[0m \u001b[0;34m+\u001b[0m \u001b[0mepsilon\u001b[0m\u001b[0;34m)\u001b[0m\u001b[0;34m)\u001b[0m\u001b[0;34m\u001b[0m\u001b[0;34m\u001b[0m\u001b[0m\n\u001b[0m\u001b[1;32m      8\u001b[0m \u001b[0;34m\u001b[0m\u001b[0m\n\u001b[1;32m      9\u001b[0m \u001b[0;32mdef\u001b[0m \u001b[0md_func\u001b[0m\u001b[0;34m(\u001b[0m\u001b[0mx\u001b[0m\u001b[0;34m)\u001b[0m\u001b[0;34m:\u001b[0m\u001b[0;34m\u001b[0m\u001b[0;34m\u001b[0m\u001b[0m\n",
      "\u001b[0;32m/usr/lib/python3/dist-packages/numpy/matrixlib/defmatrix.py\u001b[0m in \u001b[0;36m__pow__\u001b[0;34m(self, other)\u001b[0m\n\u001b[1;32m    231\u001b[0m \u001b[0;34m\u001b[0m\u001b[0m\n\u001b[1;32m    232\u001b[0m     \u001b[0;32mdef\u001b[0m \u001b[0m__pow__\u001b[0m\u001b[0;34m(\u001b[0m\u001b[0mself\u001b[0m\u001b[0;34m,\u001b[0m \u001b[0mother\u001b[0m\u001b[0;34m)\u001b[0m\u001b[0;34m:\u001b[0m\u001b[0;34m\u001b[0m\u001b[0;34m\u001b[0m\u001b[0m\n\u001b[0;32m--> 233\u001b[0;31m         \u001b[0;32mreturn\u001b[0m \u001b[0mmatrix_power\u001b[0m\u001b[0;34m(\u001b[0m\u001b[0mself\u001b[0m\u001b[0;34m,\u001b[0m \u001b[0mother\u001b[0m\u001b[0;34m)\u001b[0m\u001b[0;34m\u001b[0m\u001b[0;34m\u001b[0m\u001b[0m\n\u001b[0m\u001b[1;32m    234\u001b[0m \u001b[0;34m\u001b[0m\u001b[0m\n\u001b[1;32m    235\u001b[0m     \u001b[0;32mdef\u001b[0m \u001b[0m__ipow__\u001b[0m\u001b[0;34m(\u001b[0m\u001b[0mself\u001b[0m\u001b[0;34m,\u001b[0m \u001b[0mother\u001b[0m\u001b[0;34m)\u001b[0m\u001b[0;34m:\u001b[0m\u001b[0;34m\u001b[0m\u001b[0;34m\u001b[0m\u001b[0m\n",
      "\u001b[0;32m/usr/lib/python3/dist-packages/numpy/linalg/linalg.py\u001b[0m in \u001b[0;36mmatrix_power\u001b[0;34m(a, n)\u001b[0m\n\u001b[1;32m    624\u001b[0m     \u001b[0ma\u001b[0m \u001b[0;34m=\u001b[0m \u001b[0masanyarray\u001b[0m\u001b[0;34m(\u001b[0m\u001b[0ma\u001b[0m\u001b[0;34m)\u001b[0m\u001b[0;34m\u001b[0m\u001b[0;34m\u001b[0m\u001b[0m\n\u001b[1;32m    625\u001b[0m     \u001b[0m_assertRankAtLeast2\u001b[0m\u001b[0;34m(\u001b[0m\u001b[0ma\u001b[0m\u001b[0;34m)\u001b[0m\u001b[0;34m\u001b[0m\u001b[0;34m\u001b[0m\u001b[0m\n\u001b[0;32m--> 626\u001b[0;31m     \u001b[0m_assertNdSquareness\u001b[0m\u001b[0;34m(\u001b[0m\u001b[0ma\u001b[0m\u001b[0;34m)\u001b[0m\u001b[0;34m\u001b[0m\u001b[0;34m\u001b[0m\u001b[0m\n\u001b[0m\u001b[1;32m    627\u001b[0m \u001b[0;34m\u001b[0m\u001b[0m\n\u001b[1;32m    628\u001b[0m     \u001b[0;32mtry\u001b[0m\u001b[0;34m:\u001b[0m\u001b[0;34m\u001b[0m\u001b[0;34m\u001b[0m\u001b[0m\n",
      "\u001b[0;32m/usr/lib/python3/dist-packages/numpy/linalg/linalg.py\u001b[0m in \u001b[0;36m_assertNdSquareness\u001b[0;34m(*arrays)\u001b[0m\n\u001b[1;32m    211\u001b[0m         \u001b[0mm\u001b[0m\u001b[0;34m,\u001b[0m \u001b[0mn\u001b[0m \u001b[0;34m=\u001b[0m \u001b[0ma\u001b[0m\u001b[0;34m.\u001b[0m\u001b[0mshape\u001b[0m\u001b[0;34m[\u001b[0m\u001b[0;34m-\u001b[0m\u001b[0;36m2\u001b[0m\u001b[0;34m:\u001b[0m\u001b[0;34m]\u001b[0m\u001b[0;34m\u001b[0m\u001b[0;34m\u001b[0m\u001b[0m\n\u001b[1;32m    212\u001b[0m         \u001b[0;32mif\u001b[0m \u001b[0mm\u001b[0m \u001b[0;34m!=\u001b[0m \u001b[0mn\u001b[0m\u001b[0;34m:\u001b[0m\u001b[0;34m\u001b[0m\u001b[0;34m\u001b[0m\u001b[0m\n\u001b[0;32m--> 213\u001b[0;31m             \u001b[0;32mraise\u001b[0m \u001b[0mLinAlgError\u001b[0m\u001b[0;34m(\u001b[0m\u001b[0;34m'Last 2 dimensions of the array must be square'\u001b[0m\u001b[0;34m)\u001b[0m\u001b[0;34m\u001b[0m\u001b[0;34m\u001b[0m\u001b[0m\n\u001b[0m\u001b[1;32m    214\u001b[0m \u001b[0;34m\u001b[0m\u001b[0m\n\u001b[1;32m    215\u001b[0m \u001b[0;32mdef\u001b[0m \u001b[0m_assertFinite\u001b[0m\u001b[0;34m(\u001b[0m\u001b[0;34m*\u001b[0m\u001b[0marrays\u001b[0m\u001b[0;34m)\u001b[0m\u001b[0;34m:\u001b[0m\u001b[0;34m\u001b[0m\u001b[0;34m\u001b[0m\u001b[0m\n",
      "\u001b[0;31mLinAlgError\u001b[0m: Last 2 dimensions of the array must be square"
     ]
    }
   ],
   "source": [
    "import numpy as np\n",
    "import matplotlib.pyplot as plt\n",
    "%matplotlib inline\n",
    "\n",
    "epsilon = 0.0001\n",
    "\n",
    "func = lambda x: 0.5*(x + np.sqrt(x**2 + epsilon))\n",
    "\n",
    "def d_func(x):\n",
    "    return 0.5*(x/np.sqrt(x**2 + epsilon) + 1);\n",
    "\n",
    "t = 0.1\n",
    "\n",
    "#w1 = np.matrix(np.random.normal(0.0, pow(2, -0.5),\n",
    "#(2,1)))\n",
    "\n",
    "w1 = np.transpose(np.matrix([2,1]))\n",
    "\n",
    "#w2 = np.matrix(np.random.normal(0.0, pow(1, -0.5),\n",
    "#(1,2)))\n",
    "w2 = np.matrix([1,2])\n",
    "\n",
    "\n",
    "X = np.array([1,2,3,4,5])\n",
    "\n",
    "for i in range(1):\n",
    "    count = 0\n",
    "    for inp in X:\n",
    "        y = inp**2\n",
    "        print('inp {} , y {}, count {}'.format(inp,y, count))\n",
    "        I = np.transpose(np.matrix(inp))\n",
    "\n",
    "        H_unac = np.dot(w1,I) # unac indica que é a versao não ativada da camada\n",
    "        H = func(H_unac)\n",
    "        O_unac = np.dot(w2,H)\n",
    "        O = func(O_unac)\n",
    "\n",
    "\n",
    "        #corrigindo w2\n",
    "        error = O - y\n",
    "        print('\\terro: ', error)\n",
    "        alpha = error*d_func(O_unac)\n",
    "        \n",
    "        if count != 0:\n",
    "            grad = grad + np.transpose(np.multiply(alpha , H))\n",
    "            print('\\tgrad acumulado = ', grad)\n",
    "        else:\n",
    "            grad = np.transpose(np.multiply(alpha , H))\n",
    "            print('\\tgrad =', grad)\n",
    "            \n",
    "        w2novo = w2 - t*grad\n",
    "        \n",
    "\n",
    "        if count == 0:\n",
    "            #grad2 = np.multiply(np.bmat('V;V'),np.transpose(I))\n",
    "            #grad2 = np.multiply(V,np.transpose(np.repeat(I,2)))\n",
    "            grad2 = np.multiply(np.bmat('V;V'),np.transpose(np.repeat(I,2)))\n",
    "            #grad2 = alpha*d_func(O_unac)*I\n",
    "            #print('\\tgrad2 = ', grad2)\n",
    "            \n",
    "        else:\n",
    "            #grad2 = grad2 + np.multiply(np.bmat('V;V'),np.transpose(I))\n",
    "            #grad2 = grad2 + np.multiply(V,np.transpose(np.repeat(I,2)))\n",
    "            grad2 = grad2 + np.multiply(np.bmat('V;V'),np.transpose(np.repeat(I,2)))\n",
    "            #grad2 = grad2 + alpha*d_func(O_unac)*I\n",
    "            #print('\\tgrad2 acumulado = ', grad2)\n",
    "\n",
    "        w1novo = w1 - t*grad2\n",
    "\n",
    "        if count == 4:\n",
    "            print('dando passo')\n",
    "            w2 = w2novo\n",
    "            w1 = w1novo\n",
    "        \n",
    "        count = count + 1\n",
    "        \n",
    "\n",
    "\n",
    "m = w1[0]*w2[0,0] + w1[1]*w2[0,1]\n",
    "print(m[0,0])\n",
    "\n",
    "ex = np.linspace(0,6,10)\n",
    "ey = m[0,0]*ex\n",
    "\n",
    "plt.axis([0,6,0,30])\n",
    "print(X)\n",
    "print(y)\n",
    "plt.scatter(X,[1,4,9,16,25],s = 30, c = \"red\")\n",
    "\n",
    "plt.plot(ex,ey)"
   ]
  },
  {
   "cell_type": "code",
   "execution_count": 281,
   "metadata": {},
   "outputs": [
    {
     "data": {
      "text/plain": [
       "matrix([[ 0.98233969],\n",
       "        [-0.27209808]])"
      ]
     },
     "execution_count": 281,
     "metadata": {},
     "output_type": "execute_result"
    }
   ],
   "source": [
    "np.matrix(np.random.normal(0.0, pow(2, -0.5),\n",
    "(2,1)))"
   ]
  },
  {
   "cell_type": "code",
   "execution_count": 11,
   "metadata": {},
   "outputs": [],
   "source": [
    "w1f = np.matrix.flatten(w1)\n",
    "w1f += np.matrix([1,0,1,1])"
   ]
  },
  {
   "cell_type": "code",
   "execution_count": 3,
   "metadata": {},
   "outputs": [
    {
     "data": {
      "text/plain": [
       "matrix([[2, 2],\n",
       "        [4, 5]])"
      ]
     },
     "execution_count": 3,
     "metadata": {},
     "output_type": "execute_result"
    }
   ],
   "source": [
    "w1f.reshape(w1.shape)"
   ]
  },
  {
   "cell_type": "code",
   "execution_count": 4,
   "metadata": {},
   "outputs": [
    {
     "data": {
      "text/plain": [
       "matrix([[0.27836744],\n",
       "        [0.26912058]])"
      ]
     },
     "execution_count": 4,
     "metadata": {},
     "output_type": "execute_result"
    }
   ],
   "source": [
    "(np.ones(H.shape) - sigm(H))\n"
   ]
  },
  {
   "cell_type": "code",
   "execution_count": 5,
   "metadata": {},
   "outputs": [
    {
     "data": {
      "text/plain": [
       "matrix([[0.72163256],\n",
       "        [0.73087942]])"
      ]
     },
     "execution_count": 5,
     "metadata": {},
     "output_type": "execute_result"
    }
   ],
   "source": [
    "sigm(H)"
   ]
  },
  {
   "cell_type": "code",
   "execution_count": 6,
   "metadata": {},
   "outputs": [
    {
     "name": "stdout",
     "output_type": "stream",
     "text": [
      "[[1 2]\n",
      " [3 4]]\n",
      "[[5 6]\n",
      " [7 8]]\n",
      "ajsdd \n",
      " [[1 2]\n",
      " [3 4]\n",
      " [5 6]\n",
      " [7 8]]\n"
     ]
    }
   ],
   "source": [
    "#PARA FAZER AQUELE EMPILHAMENTO DOS V's\n",
    "\n",
    "A = np.matrix([[1,2],[3,4]])\n",
    "B = np.matrix([[5,6],[7,8]])\n",
    "print(A)\n",
    "print(B)\n",
    "\n",
    "print(\"ajsdd \\n\",np.bmat('A;B'))"
   ]
  },
  {
   "cell_type": "code",
   "execution_count": 12,
   "metadata": {},
   "outputs": [
    {
     "data": {
      "text/plain": [
       "matrix([[1],\n",
       "        [1],\n",
       "        [1],\n",
       "        [1]])"
      ]
     },
     "execution_count": 12,
     "metadata": {},
     "output_type": "execute_result"
    }
   ],
   "source": [
    "np.transpose(np.repeat(I,2))"
   ]
  },
  {
   "cell_type": "code",
   "execution_count": 141,
   "metadata": {},
   "outputs": [
    {
     "data": {
      "text/plain": [
       "matrix([[12],\n",
       "        [ 1]])"
      ]
     },
     "execution_count": 141,
     "metadata": {},
     "output_type": "execute_result"
    }
   ],
   "source": [
    "I"
   ]
  },
  {
   "cell_type": "markdown",
   "metadata": {},
   "source": [
    "# Fazendo como dito no livro de Backpropagation\n",
    "\n",
    "Fiz todo o desenvolvimento no papel (BOTAR IMAGEM AQUI DPS)"
   ]
  },
  {
   "cell_type": "code",
   "execution_count": 1,
   "metadata": {},
   "outputs": [
    {
     "name": "stdout",
     "output_type": "stream",
     "text": [
      "[0,0]: [[0.36111676]]\n",
      "[0,1]: [[0.24326589]]\n",
      "[1,0]: [[0.94906962]]\n",
      "[1,1]: [[0.24656244]]\n"
     ]
    }
   ],
   "source": [
    "import numpy as np\n",
    "\n",
    "func = lambda x: 1/(1 + np.exp(-x))\n",
    "d_func = lambda x: np.multiply(func(x),(np.ones(x.shape) - func(x)))\n",
    "t = 10\n",
    "y = 0.0\n",
    "\n",
    "X = [np.transpose(np.matrix([0,0])),\n",
    "     np.transpose(np.matrix([0,1])),\n",
    "     np.transpose(np.matrix([1,0])),\n",
    "     np.transpose(np.matrix([1,1]))]\n",
    "\n",
    "\n",
    "w1 = np.matrix([[1,2],[3,4]])\n",
    "w2 = np.matrix([5,6])\n",
    "y_arr = [0,1,1,0]\n",
    "\n",
    "j=0\n",
    "for i in range(1000):\n",
    "    if j == 4:\n",
    "        j = 0\n",
    "    I = X[j]\n",
    "    y = y_arr[j]\n",
    "    \n",
    "    H_unac = np.dot(w1,I) # unac indica que é a versao não ativada da camada\n",
    "    H = func(H_unac)\n",
    "    O_unac = np.dot(w2,H)\n",
    "    O = func(O_unac)\n",
    "\n",
    "    #corrigindo w2\n",
    "    error = O - y\n",
    "    alpha = error*d_func(O_unac)\n",
    "    \n",
    "    if(j != 0):\n",
    "        grad = grad + np.transpose(np.multiply(alpha , H)) \n",
    "    else:\n",
    "        grad = np.transpose(np.multiply(alpha , H)) \n",
    "        \n",
    "    w2novo = w2 - t*grad\n",
    "    \n",
    "    \n",
    "    erro_h = np.dot(np.transpose(w2), alpha)\n",
    "    \n",
    "    alpha_h = np.multiply(erro_h, d_func(H_unac))\n",
    "    \n",
    "    if(j!= 0):\n",
    "        grad_h = grad_h + np.multiply(alpha_h, np.transpose(np.tile(I, (1, 2))))\n",
    "    else:\n",
    "        grad_h = np.multiply(alpha_h, np.transpose(np.tile(I, (1, 2))))\n",
    "        \n",
    "    w1novo = w1 - t*grad_h\n",
    "    \n",
    "    if(j == 3):\n",
    "        w1 = w1novo\n",
    "        w2 = w2novo\n",
    "    \n",
    "    j = j + 1\n",
    "\n",
    "def predict(I):\n",
    "    H_unac = np.dot(w1,I) # unac indica que é a versao não ativada da camada\n",
    "    H = func(H_unac)\n",
    "    O_unac = np.dot(w2,H)\n",
    "    O = func(O_unac)\n",
    "    return O\n",
    "\n",
    "\n",
    "print('[0,0]:', predict(X[0]))\n",
    "print('[0,1]:', predict(X[1]))\n",
    "print('[1,0]:', predict(X[2]))\n",
    "print('[1,1]:', predict(X[3]))\n",
    "    \n",
    "    \n",
    "\n",
    "\n",
    "\n",
    "\n",
    "\n",
    "\n"
   ]
  },
  {
   "cell_type": "code",
   "execution_count": 2,
   "metadata": {},
   "outputs": [
    {
     "name": "stdout",
     "output_type": "stream",
     "text": [
      "b  [[3]\n",
      " [4]]\n",
      "[[3 4]\n",
      " [6 8]]\n"
     ]
    }
   ],
   "source": [
    "A = np.transpose(np.matrix([1,2]))\n",
    "B = np.transpose(np.matrix([3,4]))\n",
    "print('b ', B)\n",
    "C = np.tile(B, (1, 2))\n",
    "\n",
    "print(np.multiply(A,np.transpose(np.tile(B, (1, 2)))))"
   ]
  },
  {
   "cell_type": "markdown",
   "metadata": {},
   "source": [
    "## agora com um exemplo de regressão"
   ]
  },
  {
   "cell_type": "code",
   "execution_count": 2,
   "metadata": {},
   "outputs": [],
   "source": [
    "import numpy as np\n",
    "import matplotlib.pyplot as plt\n",
    "%matplotlib inline\n",
    "\n",
    "epsilon = 0.01\n",
    "\n",
    "func = lambda x: max(x,0)\n",
    "func = np.vectorize(func)\n",
    "\n",
    "def d_func(x):\n",
    "    dx = x\n",
    "    dx[x<0.0] = 0\n",
    "    dx[x>=0.0] = 1\n",
    "    return dx\n",
    "\n",
    "t = 0.001\n",
    "\n",
    "y = 0.0\n",
    "\n",
    "X = [np.transpose(np.matrix([1])),\n",
    "     np.transpose(np.matrix([2])),\n",
    "     np.transpose(np.matrix([3])),\n",
    "     np.transpose(np.matrix([4])),\n",
    "     np.transpose(np.matrix([5]))]\n",
    "\n",
    "\n",
    "#w1 = np.matrix(np.random.normal(0.0, pow(2, -0.5),(2,1)))\n",
    "w1 = np.matrix([[4],[1]])\n",
    "#w2 = np.matrix(np.random.normal(0.0, pow(1, -0.5),(1,2)))\n",
    "w2 = np.matrix([0,0])\n",
    "\n",
    "y_arr = [1,4,9,16,25]\n",
    "\n",
    "j=0\n",
    "for i in range(1000):\n",
    "    if j == 4:\n",
    "        j = 0\n",
    "    I = X[j]\n",
    "    y = y_arr[j]\n",
    "    \n",
    "    H_unac = np.dot(w1,I) # unac indica que é a versao não ativada da camada\n",
    "    H = func(H_unac)\n",
    "    O_unac = np.dot(w2,H)\n",
    "    O = func(O_unac)\n",
    "\n",
    "    #corrigindo w2\n",
    "    error = O - y\n",
    "    alpha = error*d_func(O_unac)\n",
    "    \n",
    "    if(j != 0):\n",
    "        grad = grad + np.transpose(np.multiply(alpha , H)) \n",
    "    else:\n",
    "        grad = np.transpose(np.multiply(alpha , H)) \n",
    "        \n",
    "    w2novo = w2 - t*grad\n",
    "    \n",
    "    \n",
    "    erro_h = np.dot(np.transpose(w2), alpha)\n",
    "    \n",
    "    alpha_h = np.multiply(erro_h, d_func(H_unac))\n",
    "    \n",
    "    if(j!= 0):\n",
    "        grad_h = grad_h + np.multiply(alpha_h, np.transpose(np.tile(I, (1, 2))))\n",
    "    else:\n",
    "        grad_h = np.multiply(alpha_h, np.transpose(np.tile(I, (1, 2))))\n",
    "        \n",
    "    w1novo = w1 - t*grad_h\n",
    "    \n",
    "    if(j == 4):\n",
    "        w1 = w1novo\n",
    "        w2 = w2novo\n",
    "    j = j + 1\n",
    "\n",
    "\n",
    "def predict(I):\n",
    "    H_unac = np.dot(w1,I) # unac indica que é a versao não ativada da camada\n",
    "    H = func(H_unac)\n",
    "    O_unac = np.dot(w2,H)\n",
    "    O = func(O_unac)\n",
    "    return O\n"
   ]
  },
  {
   "cell_type": "code",
   "execution_count": 3,
   "metadata": {},
   "outputs": [
    {
     "name": "stdout",
     "output_type": "stream",
     "text": [
      "0\n"
     ]
    },
    {
     "data": {
      "text/plain": [
       "[<matplotlib.lines.Line2D at 0x7f74d6f37128>]"
      ]
     },
     "execution_count": 3,
     "metadata": {},
     "output_type": "execute_result"
    },
    {
     "data": {
      "image/png": "[encoded data removed]",
      "text/plain": [
       "<Figure size 432x288 with 1 Axes>"
      ]
     },
     "metadata": {
      "needs_background": "light"
     },
     "output_type": "display_data"
    }
   ],
   "source": [
    "m = (w1[0,0]*w2[0,0] + w1[1,0]*w2[0,1])\n",
    "print(m)\n",
    "\n",
    "ex = np.linspace(0,6,10)\n",
    "ey = m*ex\n",
    "\n",
    "plt.axis([0,6,0,30])\n",
    "plt.scatter(X,[1,4,9,16,25],s = 30, c = \"red\")\n",
    "\n",
    "plt.plot(ex,ey)"
   ]
  },
  {
   "cell_type": "code",
   "execution_count": null,
   "metadata": {},
   "outputs": [],
   "source": []
  },
  {
   "cell_type": "code",
   "execution_count": null,
   "metadata": {},
   "outputs": [],
   "source": []
  },
  {
   "cell_type": "markdown",
   "metadata": {},
   "source": [
    "# VERIFICANDO CALCULO DOS GRADIENTES NO PAPEL"
   ]
  },
  {
   "cell_type": "code",
   "execution_count": 1,
   "metadata": {},
   "outputs": [
    {
     "name": "stdout",
     "output_type": "stream",
     "text": [
      "output:  [[11]]\n",
      "erro:  [[10]]\n",
      "delta:  [[10]]\n",
      "grad:  [[10 20]]\n",
      "grad2:  [[30]\n",
      " [40]]\n"
     ]
    }
   ],
   "source": [
    "import numpy as np\n",
    "import matplotlib.pyplot as plt\n",
    "%matplotlib inline\n",
    "\n",
    "epsilon = 0.01\n",
    "\n",
    "func = lambda x: max(x,0.0)\n",
    "func = np.vectorize(func)\n",
    "\n",
    "def d_func(x):\n",
    "    dx = x\n",
    "    dx[x<0.0] = 0\n",
    "    dx[x>=0.0] = 1\n",
    "    return dx\n",
    "\n",
    "t = 0.0001\n",
    "y = 0.0\n",
    "\n",
    "X = [np.transpose(np.matrix([1])),\n",
    "     np.transpose(np.matrix([2])),\n",
    "     np.transpose(np.matrix([3])),\n",
    "     np.transpose(np.matrix([4])),\n",
    "     np.transpose(np.matrix([5]))]\n",
    "\n",
    "\n",
    "#w1 = np.matrix(np.random.normal(0.0, pow(2, -0.5),(2,1)))\n",
    "w1 = np.matrix([[1],[2]])\n",
    "#w2 = np.matrix(np.random.normal(0.0, pow(1, -0.5),(1,2)))\n",
    "w2 = np.matrix([3,4])\n",
    "\n",
    "y_arr = [1,4,9,16,25]\n",
    "\n",
    "j=0\n",
    "for i in range(1):\n",
    "    \n",
    "    I = X[0]\n",
    "    y = y_arr[0]\n",
    "    \n",
    "    H_unac = np.dot(w1,I) \n",
    "    H = func(H_unac)\n",
    "    O_unac = np.dot(w2,H)\n",
    "    O = func(O_unac)\n",
    "    print('output: ',O)\n",
    "    #corrigindo w2\n",
    "    error = O - y\n",
    "    print('erro: ', error)\n",
    "    alpha = error*d_func(O_unac)\n",
    "    print('delta: ', alpha)\n",
    "    \n",
    "    \n",
    "    grad = np.transpose(np.multiply(alpha , H)) \n",
    "    print('grad: ', grad)\n",
    "\n",
    "    \n",
    "    erro_h = np.dot(np.transpose(w2), alpha)\n",
    "    \n",
    "    alpha_h = np.multiply(erro_h, d_func(H_unac))\n",
    "    \n",
    "    \n",
    "    grad_h = np.multiply(alpha_h, np.transpose(np.tile(I, (1, 2))))\n",
    "    print('grad2: ', grad_h)\n",
    "        \n",
    "\n"
   ]
  },
  {
   "cell_type": "code",
   "execution_count": null,
   "metadata": {},
   "outputs": [],
   "source": []
  }
 ],
 "metadata": {
  "kernelspec": {
   "display_name": "Python 3",
   "language": "python",
   "name": "python3"
  },
  "language_info": {
   "codemirror_mode": {
    "name": "ipython",
    "version": 3
   },
   "file_extension": ".py",
   "mimetype": "text/x-python",
   "name": "python",
   "nbconvert_exporter": "python",
   "pygments_lexer": "ipython3",
   "version": "3.7.3"
  }
 },
 "nbformat": 4,
 "nbformat_minor": 4
}
