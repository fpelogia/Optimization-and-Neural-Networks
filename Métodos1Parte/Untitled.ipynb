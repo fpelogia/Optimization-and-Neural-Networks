{
 "cells": [
  {
   "cell_type": "code",
   "execution_count": 6,
   "metadata": {},
   "outputs": [],
   "source": [
    "\n",
    "\n",
    "\n",
    "\n",
    "import numpy as np\n",
    "from numpy import linalg as la \n",
    "import matplotlib.pyplot as plt\n",
    "import sys\n",
    "import random\n",
    "\n",
    "\n",
    "func = lambda x: max(x,0.0)\n",
    "\n",
    "func = np.vectorize(func)\n",
    "\n",
    "def d_func(x):\n",
    "    dx = x\n",
    "    dx[x<0.0] = 0\n",
    "    dx[x>=0.0] = 1\n",
    "    return dx\n",
    "\n",
    "\n",
    "\n",
    "def backpropagation(I, y, w1, w2):\n",
    "    H_unac = np.dot(w1,I) \n",
    "    H = func(H_unac)\n",
    "    O_unac = np.dot(w2,H)\n",
    "    O = func(O_unac)\n",
    "\n",
    "    error = O - y\n",
    "    alpha = error*d_func(O_unac)\n",
    "    \n",
    "    \n",
    "    grad = np.transpose(np.multiply(alpha , H)) \n",
    "    \n",
    "    erro_h = np.dot(np.transpose(w2), alpha)\n",
    "    \n",
    "    alpha_h = np.multiply(erro_h, d_func(H_unac))\n",
    "    \n",
    "    grad_h = np.multiply(alpha_h, np.transpose(np.tile(I, (1, 2))))\n",
    "\n",
    "    return grad, grad_h\n",
    "\n",
    "\n",
    "def feedforward(I,w1,w2):\n",
    "    H_unac = np.dot(w1,I) # unac indica que é a versao não ativada da camada\n",
    "    H = func(H_unac)\n",
    "    O_unac = np.dot(w2,H)\n",
    "    O = func(O_unac)\n",
    "    return O\n",
    "\n",
    "\n",
    "\n",
    "\n",
    "\n",
    "#erro quadrático (funcao a ser minimizada)\n",
    "def eq(x,y,w1,w2):\n",
    "    parte_1 = (feedforward(x[0],w1,w2) - y[0])**2\n",
    "    parte_2 = (feedforward(x[1],w1,w2) - y[1])**2\n",
    "    parte_3 = (feedforward(x[2],w1,w2) - y[2])**2\n",
    "    parte_4 = (feedforward(x[3],w1,w2) - y[3])**2\n",
    "    parte_5 = (feedforward(x[4],w1,w2) - y[4])**2\n",
    "\n",
    "    return parte_1 + parte_2 + parte_3 + parte_4 + parte_5\n",
    "\n",
    "\n",
    "#funcao que calcula o gradiente da funcao de erro quadratico\n",
    "def grad_f(x,y,w1,w2,batch_size):\n",
    "  temp_grad = 0\n",
    "  temp_grad_h = 0\n",
    "  indices = random.sample(range(0, len(x)), batch_size)\n",
    "  for i in range(batch_size):\n",
    "    temp_grad, temp_grad_h =  backpropagation(x[indices[i]],y[indices[i]], w1, w2)\n",
    "    if(i==0):\n",
    "      grad = temp_grad\n",
    "      grad_h = temp_grad_h\n",
    "    else:\n",
    "      grad = grad + temp_grad\n",
    "      grad_h = grad_h + temp_grad_h\n",
    "  grad = grad/batch_size\n",
    "  grad_h = grad_h/batch_size\n",
    "  return grad, grad_h\n",
    "\n",
    "\n",
    "\n",
    "def Adagrad(X, y, t, batch_size = 5):\n",
    "\n",
    "    # w1 e w2 são matrizes com os pesos da rede neural\n",
    "    w1 = np.matrix([[1],[2]])\n",
    "    w2 = np.matrix([3,4])\n",
    "\n",
    "    n_iter = 0\n",
    "    erro_quad = 0\n",
    "    a_history = []\n",
    "    b_history = []\n",
    "\n",
    "    while True:\n",
    "        \n",
    "        #descobre o gradiente\n",
    "        grad, grad_h = grad_f(X, y, w1, w2, batch_size)\n",
    "        \n",
    "        print('gd:', grad)\n",
    "\n",
    "\n",
    "        #=========== apenas para plotar o erro==========\n",
    "        a = n_iter\n",
    "        a_history.append(a)\n",
    "        erro_quad = eq(X,y,w1,w2)\n",
    "        b = erro_quad \n",
    "        b_history.append(b)\n",
    "        #===============================================\n",
    "        \n",
    "\n",
    "        #anda com passo t na direção oposta à do gradiente\n",
    "        w1 = w1 - np.multiply(t, grad_h)\n",
    "        w2 = w2 - np.multiply(t, grad)        \n",
    "        \n",
    "        #norma do gradiente (usado como medida de errosi)\n",
    "        norm_grad = la.norm(np.matrix([[grad_h[0,0]],[grad_h[1,0]],[grad[0,0]],[grad[0,1]]]))\n",
    "\n",
    "        \n",
    "        #condição de parada\n",
    "        if(norm_grad < 0.0001):\n",
    "          break\n",
    "\n",
    "        n_iter = n_iter + 1\n",
    "\n",
    "\n",
    "#=============== plotando resultados ====================\n",
    "\n",
    "    # m ideal por quadrados mínimos : 4.09\n",
    "    m = (w1[0,0]*w2[0,0] + w1[1,0]*w2[0,1])\n",
    "    print('m: ',  m)\n",
    "    print('n_iter', n_iter)\n",
    "\n",
    "    ex = np.linspace(0,6,10)\n",
    "    ey = m*ex\n",
    "\n",
    "    plt.axis([0,6,0,30])\n",
    "    plt.scatter(X,[1,4,9,16,25],s = 30, c = \"red\")\n",
    "\n",
    "    plt.plot(ex,ey)\n",
    "    plt.show()\n",
    "\n",
    "    plt.scatter(a_history,b_history)\n",
    "    plt.show()\n",
    "#========================================================\n",
    "\n",
    "\n",
    "#aqui temos os dados para treinamento\n",
    "\n",
    "X = [np.transpose(np.matrix([1])),\n",
    "     np.transpose(np.matrix([2])),\n",
    "     np.transpose(np.matrix([3])),\n",
    "     np.transpose(np.matrix([4])),\n",
    "     np.transpose(np.matrix([5]))\n",
    "     ]\n",
    "\n",
    "y = [1,4,9,16,25]\n"
   ]
  },
  {
   "cell_type": "code",
   "execution_count": 2,
   "metadata": {},
   "outputs": [
    {
     "name": "stdout",
     "output_type": "stream",
     "text": [
      "m:  4.0909105238311225\n",
      "n_iter 54\n"
     ]
    },
    {
     "data": {
      "image/png": "[encoded data removed]",
      "text/plain": [
       "<Figure size 432x288 with 1 Axes>"
      ]
     },
     "metadata": {
      "needs_background": "light"
     },
     "output_type": "display_data"
    },
    {
     "data": {
      "image/png": "[encoded data removed]",
      "text/plain": [
       "<Figure size 432x288 with 1 Axes>"
      ]
     },
     "metadata": {
      "needs_background": "light"
     },
     "output_type": "display_data"
    }
   ],
   "source": [
    "Adagrad(X, y, 0.001, 5)\n"
   ]
  },
  {
   "cell_type": "code",
   "execution_count": 5,
   "metadata": {},
   "outputs": [
    {
     "ename": "NameError",
     "evalue": "name 'grad' is not defined",
     "output_type": "error",
     "traceback": [
      "\u001b[0;31m---------------------------------------------------------------------------\u001b[0m",
      "\u001b[0;31mNameError\u001b[0m                                 Traceback (most recent call last)",
      "\u001b[0;32m<ipython-input-5-08e6cbab2f8a>\u001b[0m in \u001b[0;36m<module>\u001b[0;34m\u001b[0m\n\u001b[0;32m----> 1\u001b[0;31m \u001b[0mgrad\u001b[0m\u001b[0;34m\u001b[0m\u001b[0;34m\u001b[0m\u001b[0m\n\u001b[0m",
      "\u001b[0;31mNameError\u001b[0m: name 'grad' is not defined"
     ]
    }
   ],
   "source": []
  }
 ],
 "metadata": {
  "kernelspec": {
   "display_name": "Python 3",
   "language": "python",
   "name": "python3"
  },
  "language_info": {
   "codemirror_mode": {
    "name": "ipython",
    "version": 3
   },
   "file_extension": ".py",
   "mimetype": "text/x-python",
   "name": "python",
   "nbconvert_exporter": "python",
   "pygments_lexer": "ipython3",
   "version": "3.7.3"
  }
 },
 "nbformat": 4,
 "nbformat_minor": 4
}
