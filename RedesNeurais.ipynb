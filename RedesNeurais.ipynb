{
  "nbformat": 4,
  "nbformat_minor": 0,
  "metadata": {
    "colab": {
      "name": "RedesNeurais.ipynb",
      "version": "0.3.2",
      "provenance": [],
      "collapsed_sections": [],
      "include_colab_link": true
    },
    "kernelspec": {
      "name": "python3",
      "display_name": "Python 3"
    }
  },
  "cells": [
    {
      "cell_type": "markdown",
      "metadata": {
        "id": "view-in-github",
        "colab_type": "text"
      },
      "source": [
        "<a href=\"https://colab.research.google.com/github/fpelogia/Optimization-and-Neural-Networks/blob/master/RedesNeurais.ipynb\" target=\"_parent\"><img src=\"https://colab.research.google.com/assets/colab-badge.svg\" alt=\"Open In Colab\"/></a>"
      ]
    },
    {
      "cell_type": "markdown",
      "metadata": {
        "id": "2B3b4KZX7stq",
        "colab_type": "text"
      },
      "source": [
        "#Estudo de Redes Neurais\n",
        "Aluno : Frederico José Ribeiro Pelogia\n",
        "\n",
        "Orientador : Luis Felipe Cesar da Rocha Bueno\n",
        "\n",
        "#Índice\n",
        "1. [Função de ativação linear](https://colab.research.google.com/drive/1J5eLQuRxyFlVI_aRJ2-H_oYzRW_fRPVG)\n",
        "    \n",
        "2. [Função de ativação Sigmoide](https://colab.research.google.com/drive/1q7eV2O318LeqEvQZZRTfHYn3ErJ7nky4)\n",
        "\n",
        "3. [Função de ativação $max(x,0)$](https://colab.research.google.com/drive/1s8oc1PofMhJAtYPFfffpTbCKcgehjmhW)\n",
        "    \n",
        "4. [Função de ativação $\\frac{x + \\sqrt{x^2 +0.0001} }{2}$](https://colab.research.google.com/drive/1c6m2lElZbDFNKq8f-ISMEQguB-cUDlp1)\n",
        "    \n",
        " \n",
        " \n",
        "5. [Método do Gradiente e Backpropagation](https://colab.research.google.com/drive/1XhmG4nNIG6wWobuuJN6l2yzx3y0ZmZXX)\n",
        "\n",
        "6. [Utilizando Viés (Bias)](https://colab.research.google.com/drive/1xTZi2Bnf_4sdX_vqWSy3ArxHgj343IeK)\n",
        "\n",
        "7. [Aumentando o número de camadas ocultas](https://colab.research.google.com/drive/1IyabWmbgWbK02Y1j-d33ggjG8VqGUcbm)"
      ]
    },
    {
      "cell_type": "markdown",
      "metadata": {
        "id": "RqGtAL9YxkUG",
        "colab_type": "text"
      },
      "source": [
        "#APENAS TESTES DAQUI PRA BAIXO, IGNORAR"
      ]
    },
    {
      "cell_type": "code",
      "metadata": {
        "id": "mXi-kvMjxit5",
        "colab_type": "code",
        "colab": {}
      },
      "source": [
        "import numpy as np\n",
        "import matplotlib.pyplot as plt\n",
        "%matplotlib inline\n",
        "\n",
        "epsilon = 0.0001\n",
        "\n",
        "def reLu(x):\n",
        "    return 0.5*(x + np.sqrt(x**2 + epsilon))\n",
        "\n",
        "\n",
        "def sigmoid(x):\n",
        "    return 1/(1+np.exp(-1*x)) \n",
        "\n",
        "class Layer():\n",
        "    def __init__(self, n_values, func = \"none\"):\n",
        "        self.n_values = n_values\n",
        "        self.func = func\n",
        "        self.arr = np.random.randn(n_values)\n",
        "        self.biases = np.random.randn(n_values)\n",
        "\n",
        "    \n",
        "class NeuralNetwork():\n",
        "  \n",
        "    def __init__(self, layers, learning_rate = 0.0005 ,optimizer = \"backpropagation\"):\n",
        "        self.layers = layers\n",
        "        self.n_layers = len(layers)\n",
        "        self.optimizer = optimizer\n",
        "        self.learning_rate = learning_rate\n",
        "        #inicializa as matrizes com os pesos\n",
        "        for i in range(len(self.layers) - 1):\n",
        "            n_curr = self.layers[i].n_values\n",
        "            n_next = self.layers[i+1].n_values\n",
        "            self.layers[i].weights = np.random.randn(n_curr,n_next)\n",
        "\n",
        "    def train_step(self, input, target):\n",
        "\n",
        "        self.layers[0].arr = input\n",
        "\n",
        "\n",
        "        # Feed-Forward\n",
        "        for i in range(self.n_layers):\n",
        "            \n",
        "            if i!= 0:\n",
        "                self.layers[i].arr = np.dot(self.layers[i-1].arr, self.layers[i-1].weights)        \n",
        "                self.layers[i].arr = np.add(self.layers[i].arr, self.layers[i].biases)\n",
        "                \n",
        "                if self.layers[i].func == \"sigmoid\":\n",
        "                    for j in range(self.layers[i].n_values):\n",
        "                        self.layers[i].arr[0][j] = sigmoid(self.layers[i].arr[0][j]) \n",
        "                elif self.layers[i].func == \"relu\":\n",
        "                    for j in range(self.layers[i].n_values):\n",
        "                        self.layers[i].arr[0][j] = reLu(self.layers[i].arr[0][j]) \n",
        "                else:\n",
        "                    if not self.layers[i].func == \"linear\":\n",
        "                        print(\"ERROR: unknown activation function {}\".format(self.layers[i].func))\n",
        "\n",
        "        output = self.layers[self.n_layers-1].arr\n",
        "\n",
        "        # Otimização\n",
        "   \n",
        "        if self.optimizer == \"backpropagation\":\n",
        "\n",
        "            for i in range(self.n_layers-1,0,-1):\n",
        "                if i == self.n_layers-1:\n",
        "                    error = target - output\n",
        "                else:\n",
        "                    error = np.dot(error, np.transpose(self.layers[i].weights))\n",
        "\n",
        "                if self.layers[i].func == \"linear\":\n",
        "                    d_func = 1\n",
        "                elif self.layers[i].func == \"sigmoid\":\n",
        "                    d_func = self.layers[i].arr*(1 - self.layers[i].arr)\n",
        "                elif self.layers[i].func == \"relu\":\n",
        "                    d_func = 0.5*(self.layers[i].arr/np.sqrt(self.layers[i].arr**2 + epsilon) + 1)\n",
        "                else:\n",
        "                    print(\"ERROR: unknown activation function {}\".format(self.layers[self.n_layers - 1].func))\n",
        "\n",
        "                gradient = self.learning_rate * error * d_func\n",
        "                \n",
        "                self.layers[i].biases = np.add(self.layers[i].biases, gradient)\n",
        "\n",
        "                weights_deltas = np.dot(np.transpose(self.layers[i-1].arr), gradient)\n",
        "                self.layers[i-1].weights = np.add(self.layers[i-1].weights, weights_deltas)\n",
        "\n",
        "        # IMPLEMENTAR PARA MÉTODO DO GRADIENTE TBM\n",
        "        elif self.optimizer == \"gradient\":\n",
        "          \n",
        "\n",
        "    def predict(self, input):\n",
        "\n",
        "        self.layers[0].arr = input\n",
        "\n",
        "        # Feed-Forward\n",
        "        for i in range(len(self.layers)):\n",
        "            if i!= 0:\n",
        "                self.layers[i].arr = np.dot(self.layers[i-1].arr, self.layers[i-1].weights)        \n",
        "                self.layers[i].arr = np.add(self.layers[i].arr, self.layers[i].biases)\n",
        "                \n",
        "                if self.layers[i].func == \"sigmoid\":\n",
        "                    for j in range(self.layers[i].n_values):\n",
        "                        self.layers[i].arr[0][j] = sigmoid(self.layers[i].arr[0][j]) \n",
        "                elif self.layers[i].func == \"relu\":\n",
        "                    for j in range(self.layers[i].n_values):\n",
        "                        self.layers[i].arr[0][j] = reLu(self.layers[i].arr[0][j]) \n",
        "                else:\n",
        "                    if not self.layers[i].func == \"linear\":\n",
        "                        print(\"ERROR: unknown activation function {}\".format(self.layers[i].func))\n",
        "\n",
        "        output = self.layers[self.n_layers-1].arr\n",
        "        return output\n",
        "    \n",
        "    \n",
        "    def train(self, trainning_set, labels, epochs=1000):\n",
        "        for _ in range(epochs):\n",
        "            index  = np.random.randint(len(trainning_set))\n",
        "            self.train_step(trainning_set[index], labels[index])        \n",
        "\n",
        "\n",
        "\n",
        "\n",
        "layers = [Layer(1), Layer(2,\"relu\"), Layer(2,\"relu\"),Layer(1,\"linear\")]\n",
        "\n",
        "X = np.array([1.0, 2.0, 3.0, 4.0, 5.0])\n",
        "y = X**2\n",
        "\n",
        "mynn = NeuralNetwork(layers, 0.00005, optimizer= \"backpropagation\")\n",
        "mynn.train(X, y, 10000)\n",
        "\n",
        "\n",
        "\n"
      ],
      "execution_count": 0,
      "outputs": []
    },
    {
      "cell_type": "code",
      "metadata": {
        "id": "5jpS-_Maxw9u",
        "colab_type": "code",
        "outputId": "b90a262c-91ce-4d01-d8ba-16dc7589a182",
        "colab": {
          "base_uri": "https://localhost:8080/",
          "height": 286
        }
      },
      "source": [
        "w1 = layers[0].weights[0][0]\n",
        "w2 = layers[0].weights[0][1]\n",
        "\n",
        "b1 = layers[1].biases[0][0]\n",
        "b2 = layers[1].biases[0][1]\n",
        "\n",
        "w3 = layers[1].weights[0][0]\n",
        "w5 = layers[1].weights[1][0]\n",
        "\n",
        "w4 = layers[1].weights[0][1]\n",
        "w6 = layers[1].weights[1][1]\n",
        "\n",
        "b3 = layers[2].biases[0][0]\n",
        "b4 = layers[2].biases[0][1]\n",
        "\n",
        "w7 = layers[2].weights[0][0]\n",
        "w8 = layers[2].weights[1][0]\n",
        "b5 = layers[3].biases[0][0]\n",
        "\n",
        "\n",
        "\n",
        "#(w1w3w7 + w2w5w7 + w2w6w8 + w1w4w8)x \n",
        "#  + (w3w7b1 + w5w7b2 + w7b3 + w6w8b2 + w4w8b1 + w8b4 + b5)\n",
        "\n",
        "\n",
        "A = -1*b1/w1\n",
        "B = -1*b2/w2\n",
        "C = -1*(w3*b1 + w5*b2 + b3)/(w3*w1 + w5*w2)\n",
        "D = -1*(w6*b2 + w4*b1 + b4)/(w6*w2 + w4*w1)\n",
        "\n",
        "\n",
        "ex = np.linspace(0,60,60)\n",
        "ey = np.array(ex) \n",
        "\n",
        "\n",
        "for i in range(len(ey)):\n",
        "  \n",
        "  if (ey[i] < A and ey[i] >= B and ey[i] >= C and ey[i] >=D ):\n",
        "    ey[i] = (w5*w2*w7 + w8*w2*w6)*ey[i] + b5\n",
        "  \n",
        "  elif (ey[i] < B and ey[i]>=A and ey[i]>=C and ey[i]>=D):\n",
        "    ey[i] = (w7*w3*w1 + w8*w4*w1)*ey[i] + b5\n",
        "  \n",
        "  elif(ey[i] < A and ey[i] <B and ey[i]>=C and ey[i]>=D):\n",
        "    ey[i] = b3*w7+b4*w8+b5\n",
        "  \n",
        "  elif(ey[i]<C and ey[i] <D and ey[i]>=A and ey[i]>=B):\n",
        "    ey[i] = b5\n",
        "  \n",
        "  elif(ey[i]<A and ey[i]<B and ey[i]<C and ey[i]>=D):\n",
        "    ey[i] = b4*w8+b5\n",
        "    \n",
        "  elif(ey[i]<A and ey[i]<B and ey[i]< D and ey[i]>=C):\n",
        "    ey[i] = b3*w7+b5\n",
        "\n",
        "  elif(ey[i]<A and ey[i]<C and ey[i]<D and ey[i]>=B):\n",
        "    ey[i] = b5\n",
        "  \n",
        "  elif(ey[i]<B and ey[i]<C and ey[i]<D and ey[i]>=A):\n",
        "    ey[i] = b5\n",
        "  \n",
        "  elif(ey[i]<C and ey[i]>=A and ey[i]>=B and ey[i]>=D):\n",
        "    ey[i] = ((w2*ey[i] + b2)*w6 + (w1*ey[i] + b1)*w4 + b4)*w8 + b5\n",
        "  \n",
        "  elif(ey[i]<D and ey[i]>=A and ey[i]>=B and ey[i]>=C):\n",
        "    ey[i] = ((w1*ey[i] + b1)*w3 + (w2*ey[i] + b2)*w5 + b3)*w7 + b5\n",
        "    \n",
        "  elif(ey[i]>=A and ey[i]>=B and ey[i]>= C and ey[i]>=D):\n",
        "    ey[i] = (w1*w3*w7 + w2*w5*w7 + w2*w6*w8 + w1*w4*w8)*ey[i] + (w3*w7*b1 + w5*w7*b2 + w7*b3 + w6*w8*b2 + w4*w8*b1 + w8*b4 + b5)\n",
        " \n",
        "\n",
        "    \n",
        "plt.axis([0,20,0,20])\n",
        "\n",
        "\n",
        "plt.scatter(X,y,s = 30, c = \"red\")\n",
        "plt.plot(ex,ey)\n",
        "\n"
      ],
      "execution_count": 0,
      "outputs": [
        {
          "output_type": "execute_result",
          "data": {
            "text/plain": [
              "[<matplotlib.lines.Line2D at 0x7fd8a6b35e10>]"
            ]
          },
          "metadata": {
            "tags": []
          },
          "execution_count": 16
        },
        {
          "output_type": "display_data",
          "data": {
            "image/png": "[encoded data removed]",
            "text/plain": [
              "<Figure size 432x288 with 1 Axes>"
            ]
          },
          "metadata": {
            "tags": []
          }
        }
      ]
    },
    {
      "cell_type": "code",
      "metadata": {
        "id": "BekUbZUDp_8x",
        "colab_type": "code",
        "outputId": "7ecd6b13-3764-4835-ed0a-516b6e84d9d7",
        "colab": {
          "base_uri": "https://localhost:8080/",
          "height": 35
        }
      },
      "source": [
        "\n"
      ],
      "execution_count": 0,
      "outputs": [
        {
          "output_type": "execute_result",
          "data": {
            "text/plain": [
              "[3, 3, 3]"
            ]
          },
          "metadata": {
            "tags": []
          },
          "execution_count": 43
        }
      ]
    }
  ]
}