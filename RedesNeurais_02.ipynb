{
  "nbformat": 4,
  "nbformat_minor": 0,
  "metadata": {
    "colab": {
      "name": "RedesNeurais_02.ipynb",
      "version": "0.3.2",
      "provenance": [],
      "collapsed_sections": [
        "8ZPOz_G0AW-k",
        "7sl2qIzXB2S9"
      ],
      "include_colab_link": true
    },
    "kernelspec": {
      "name": "python3",
      "display_name": "Python 3"
    }
  },
  "cells": [
    {
      "cell_type": "markdown",
      "metadata": {
        "id": "view-in-github",
        "colab_type": "text"
      },
      "source": [
        "<a href=\"https://colab.research.google.com/github/fpelogia/Optimization-and-Neural-Networks/blob/master/RedesNeurais_02.ipynb\" target=\"_parent\"><img src=\"https://colab.research.google.com/assets/colab-badge.svg\" alt=\"Open In Colab\"/></a>"
      ]
    },
    {
      "cell_type": "markdown",
      "metadata": {
        "id": "0ntFn-HcAWdR",
        "colab_type": "text"
      },
      "source": [
        "#Redes Neurais\n",
        "[Voltar](https://colab.research.google.com/drive/1zGxVatpjlZtdtECAikT1eKP7EQ50m-Ur)"
      ]
    },
    {
      "cell_type": "markdown",
      "metadata": {
        "id": "EqqQ3h3HAYfI",
        "colab_type": "text"
      },
      "source": [
        "#2 - Função de ativação Sigmoide\n",
        "$$f(x) = \\frac{1}{1 +e^{-x}}$$\n",
        "​\n",
        "​\n",
        "$$f'(x) = f(x)*(1-f(x))$$"
      ]
    },
    {
      "cell_type": "code",
      "metadata": {
        "id": "s6gwe0HnAWvt",
        "colab_type": "code",
        "colab": {}
      },
      "source": [
        "import numpy as np\n",
        "import matplotlib.pyplot as plt\n",
        "%matplotlib inline\n",
        "\n",
        "def act_func(x):\n",
        "    return 1/(1+np.exp(-1*x)) \n",
        "\n",
        "class RedeNeural():\n",
        "    def __init__(self, n_inputs,n_hidden,n_outputs,learning_rate = 0.1,ignore_biases = False):\n",
        "        self.n_inputs = n_inputs\n",
        "        self.n_hidden = n_hidden\n",
        "        self.n_outputs = n_outputs\n",
        "        \n",
        "        if not ignore_biases:\n",
        "            self.bias_ih = np.random.rand(1,self.n_hidden)\n",
        "            self.bias_ho = np.random.rand(1,self.n_outputs)\n",
        "        else:\n",
        "            self.bias_ih = np.zeros((1,self.n_hidden))\n",
        "            self.bias_ho = np.zeros((1,self.n_outputs))\n",
        "\n",
        "        self.weight_ih = np.random.normal(0.0, pow(self.n_inputs, -0.5),\n",
        "(self.n_hidden, self.n_inputs))\n",
        "        self.weight_ih = np.transpose(self.weight_ih)\n",
        "        self.weight_ho = np.random.normal(0.0, pow(self.n_hidden, -0.5),\n",
        "(self.n_outputs, self.n_hidden))\n",
        "        self.weight_ho = np.transpose(self.weight_ho)\n",
        "        self.learning_rate = learning_rate\n",
        "        self.ignoreb = ignore_biases\n",
        "\n",
        "    def train_step(self, input,target):\n",
        "        #np.dot : simples multiplicacao matricial\n",
        "\n",
        "        #  INPUT ====> HIDDEN\n",
        "        hidden = np.dot(input, self.weight_ih)\n",
        "        if not self.ignoreb:\n",
        "            hidden = np.add(hidden,self.bias_ih)\n",
        "        for i in range(len(hidden)):\n",
        "            hidden[i] = act_func(hidden[i])\n",
        "    \n",
        "        #  HIDDEN ====> OUTPUT\n",
        "\n",
        "        output = np.dot(hidden,self.weight_ho)\n",
        "        if not self.ignoreb:\n",
        "            output = np.add(output,self.bias_ho)\n",
        "        for i in range(len(output)):\n",
        "            output[i] = act_func(output[i])\n",
        "        \n",
        "        \n",
        "        \n",
        "        \n",
        "        #BACKPROPAGATION\n",
        "        \n",
        "        ## OUTPUT ==> HIDDEN \n",
        "        \n",
        "        output_error = target - output   \n",
        "        d_output = output*(1-output) \n",
        "        gradient = self.learning_rate*output_error*d_output\n",
        "\n",
        "        if not self.ignoreb:\n",
        "            self.bias_ho = np.add(self.bias_ho,gradient)\n",
        "            \n",
        "        weight_ho_deltas = np.dot(np.transpose(hidden),gradient)\n",
        "        self.weight_ho = np.add(self.weight_ho,weight_ho_deltas)\n",
        "        \n",
        "        ## HIDDEN ==> INPUT\n",
        "        \n",
        "        hidden_error = np.dot(output_error,np.transpose(self.weight_ho))\n",
        "        d_hidden = hidden*(1 - hidden)\n",
        "        gradient_H = self.learning_rate*hidden_error*d_hidden\n",
        "\n",
        "        if not self.ignoreb:\n",
        "            self.bias_ih = np.add(self.bias_ih,gradient_H)\n",
        "            \n",
        "        weight_ih_deltas = np.dot(np.transpose(input),gradient_H)\n",
        "        self.weight_ih = np.add(self.weight_ih,weight_ih_deltas)\n",
        "\n",
        "        \n",
        "\n",
        "    def predict(self,input):\n",
        "\n",
        "        hidden = np.dot(input, self.weight_ih)\n",
        "        if not self.ignoreb:\n",
        "            hidden = np.add(hidden,self.bias_ih)\n",
        "        for i in range(len(hidden)):\n",
        "            hidden[i] = act_func(hidden[i])\n",
        "     \n",
        "        #  HIDDEN ====> OUTPUT\n",
        "\n",
        "        output = np.dot(hidden,self.weight_ho)\n",
        "        if not self.ignoreb:\n",
        "            output = np.add(output,self.bias_ho)\n",
        "        for i in range(len(output)):\n",
        "            output[i] = act_func(output[i])\n",
        "\n",
        "        return output[0]\n",
        "    \n",
        "    \n",
        "    def train(self, trainning_set, labels, epochs=1000):\n",
        "        \n",
        "        inputs = np.array(trainning_set)\n",
        "        \n",
        "        \n",
        "        for _ in range(epochs):\n",
        "            index  = np.random.randint(len(trainning_set))\n",
        "            self.train_step(inputs[index],labels[index])\n",
        "\n",
        "\n"
      ],
      "execution_count": 0,
      "outputs": []
    },
    {
      "cell_type": "markdown",
      "metadata": {
        "id": "8ZPOz_G0AW-k",
        "colab_type": "text"
      },
      "source": [
        "##2.1) Problema do XOR\n",
        "​\n",
        "![picture](https://drive.google.com/uc?id=1xdANnp1hGJDeUMGWEeYxipXt1hxqwjHs)"
      ]
    },
    {
      "cell_type": "code",
      "metadata": {
        "id": "uB4DAoVaAXJ8",
        "colab_type": "code",
        "colab": {}
      },
      "source": [
        "mynn = RedeNeural(2,8,1,0.1,True)\n",
        "\n",
        "# MONTANDO ARRAY DE TREINO\n",
        "i0 = np.array([[0,0]])\n",
        "i1 = np.array([[0,1]])\n",
        "i2 = np.array([[1,0]])\n",
        "i3 = np.array([[1,1]])\n",
        "\n",
        "X = [i0,i1,i2,i3]\n",
        "labels = [0,1,1,0]\n",
        "\n",
        "mynn.train(X,labels,100000)"
      ],
      "execution_count": 0,
      "outputs": []
    },
    {
      "cell_type": "code",
      "metadata": {
        "id": "R_7Vh93yAXSN",
        "colab_type": "code",
        "outputId": "b47f7d08-366a-43f5-c9d9-17c5416dea76",
        "colab": {
          "base_uri": "https://localhost:8080/",
          "height": 85
        }
      },
      "source": [
        "print(mynn.predict([[0,0]]))\n",
        "print(mynn.predict([[0,1]]))\n",
        "print(mynn.predict([[1,0]]))\n",
        "print(mynn.predict([[1,1]]))"
      ],
      "execution_count": 0,
      "outputs": [
        {
          "output_type": "stream",
          "text": [
            "[0.02393978]\n",
            "[0.97777158]\n",
            "[0.97890714]\n",
            "[0.02158116]\n"
          ],
          "name": "stdout"
        }
      ]
    },
    {
      "cell_type": "markdown",
      "metadata": {
        "id": "7sl2qIzXB2S9",
        "colab_type": "text"
      },
      "source": [
        "\n",
        "##2.2) Testando para $y = x^2$"
      ]
    },
    {
      "cell_type": "code",
      "metadata": {
        "id": "gJwUmpDvB9Ea",
        "colab_type": "code",
        "colab": {}
      },
      "source": [
        "mynn = RedeNeural(1,8,1,0.1,ignore_biases = False)\n",
        "\n",
        "\n",
        "# MONTANDO UM CONJUNTO DE TREINO\n",
        "X = []\n",
        "for i in range(10000):\n",
        "    X.append(np.random.rand(1,1));\n",
        "X = np.array(X)\n",
        "\n",
        "\n",
        "mynn.train(X,X*X,epochs = 10000)\n",
        "\n",
        "\n"
      ],
      "execution_count": 0,
      "outputs": []
    },
    {
      "cell_type": "code",
      "metadata": {
        "id": "flu3xidMCCAG",
        "colab_type": "code",
        "outputId": "3f347ba1-67bf-41b5-f3f9-3577777af6c6",
        "colab": {
          "base_uri": "https://localhost:8080/",
          "height": 34
        }
      },
      "source": [
        "mynn.predict([[0.2]])\n"
      ],
      "execution_count": 0,
      "outputs": [
        {
          "output_type": "execute_result",
          "data": {
            "text/plain": [
              "array([0.05073524])"
            ]
          },
          "metadata": {
            "tags": []
          },
          "execution_count": 21
        }
      ]
    }
  ]
}