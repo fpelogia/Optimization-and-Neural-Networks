{
  "nbformat": 4,
  "nbformat_minor": 0,
  "metadata": {
    "colab": {
      "name": "RedesNeurais_03.ipynb",
      "version": "0.3.2",
      "provenance": [],
      "collapsed_sections": [
        "PJMJue5jC_PC",
        "_20CzEB0EMWd",
        "quXVGG10EMTh",
        "C4OWGJOuEdiD",
        "8A4yv-enDAp4",
        "N-w1V22pDBH2",
        "77OAMkajBJ5e",
        "w3iaNGL8BK2c",
        "AUMIz6PTBLTC"
      ],
      "include_colab_link": true
    },
    "kernelspec": {
      "name": "python3",
      "display_name": "Python 3"
    }
  },
  "cells": [
    {
      "cell_type": "markdown",
      "metadata": {
        "id": "view-in-github",
        "colab_type": "text"
      },
      "source": [
        "<a href=\"https://colab.research.google.com/github/fpelogia/Optimization-and-Neural-Networks/blob/master/RedesNeurais_03.ipynb\" target=\"_parent\"><img src=\"https://colab.research.google.com/assets/colab-badge.svg\" alt=\"Open In Colab\"/></a>"
      ]
    },
    {
      "cell_type": "markdown",
      "metadata": {
        "id": "uWRNC6r0C_GH",
        "colab_type": "text"
      },
      "source": [
        "#Redes Neurais\n",
        "[Voltar](https://colab.research.google.com/drive/1zGxVatpjlZtdtECAikT1eKP7EQ50m-Ur)"
      ]
    },
    {
      "cell_type": "markdown",
      "metadata": {
        "id": "PJMJue5jC_PC",
        "colab_type": "text"
      },
      "source": [
        "#3 Função de Ativação $max(x,0)$\n"
      ]
    },
    {
      "cell_type": "markdown",
      "metadata": {
        "id": "_20CzEB0EMWd",
        "colab_type": "text"
      },
      "source": [
        "##3.1 - Na camada oculta e no output\n"
      ]
    },
    {
      "cell_type": "markdown",
      "metadata": {
        "id": "quXVGG10EMTh",
        "colab_type": "text"
      },
      "source": [
        "###3.1.1 - Arredondando derivada para cima"
      ]
    },
    {
      "cell_type": "code",
      "metadata": {
        "id": "HJpBG0ztC_pr",
        "colab_type": "code",
        "colab": {}
      },
      "source": [
        "import numpy as np\n",
        "import matplotlib.pyplot as plt\n",
        "%matplotlib inline\n",
        "\n",
        "def act_func(x):\n",
        "    return x\n",
        "\n",
        "def reLu(x):\n",
        "    return max(x,0.0)\n",
        " \n",
        "class RedeNeural():\n",
        "    def __init__(self, n_inputs,n_hidden,n_outputs,learning_rate = 0.1):\n",
        "        self.n_inputs = n_inputs\n",
        "        self.n_hidden = n_hidden\n",
        "        self.n_outputs = n_outputs\n",
        "        \n",
        "        \n",
        "        \n",
        "        self.weight_ih = np.random.normal(0.0, pow(self.n_inputs, -0.5),\n",
        "(self.n_hidden, self.n_inputs))\n",
        "        \n",
        "        \n",
        "        self.weight_ih = np.transpose(self.weight_ih)\n",
        "        self.weight_ho = np.random.normal(0.0, pow(self.n_hidden, -0.5),\n",
        "(self.n_outputs, self.n_hidden))\n",
        "        self.weight_ho = np.transpose(self.weight_ho)\n",
        "        self.learning_rate = learning_rate\n",
        "        \n",
        "\n",
        "    def train_step(self, input,target):\n",
        "        #np.dot : simples multiplicacao matricial\n",
        "   \n",
        "\n",
        "        #  INPUT ====> HIDDEN\n",
        "                 \n",
        "        hidden = np.dot(input, self.weight_ih)\n",
        "        for i in range(self.n_hidden):\n",
        "            hidden[0][i] = reLu(hidden[0][i])\n",
        "    \n",
        "        #  HIDDEN ====> OUTPUT\n",
        "\n",
        "        output = np.dot(hidden,self.weight_ho)\n",
        "        for i in range(len(output)):\n",
        "            output[i] = reLu(output[i])\n",
        "        \n",
        "        \n",
        "        \n",
        "        \n",
        "        #BACKPROPAGATION\n",
        "        ## OUTPUT ==> HIDDEN \n",
        "        output_error = target - output\n",
        "        \n",
        "        d_output = output\n",
        "        d_output[d_output < 0.0] = 0.0\n",
        "        d_output[d_output >= 0.0] = 1.0\n",
        "        gradient = self.learning_rate*output_error*d_output\n",
        "        \n",
        "        weight_ho_deltas = np.dot(np.transpose(hidden),gradient)\n",
        "        self.weight_ho = np.add(self.weight_ho,weight_ho_deltas)\n",
        "        \n",
        "        ## HIDDEN ==> INPUT\n",
        "        hidden_error = np.dot(output_error,np.transpose(self.weight_ho))\n",
        "        \n",
        "        d_hidden = hidden\n",
        "        d_hidden[d_hidden<0.0] = 0.0\n",
        "        d_hidden[d_hidden>=0.0] = 1.0\n",
        "        gradient_H = self.learning_rate*hidden_error*d_hidden\n",
        "       \n",
        "        weight_ih_deltas = np.dot(np.transpose(input),gradient_H)\n",
        "        self.weight_ih = np.add(self.weight_ih,weight_ih_deltas)\n",
        "\n",
        "        \n",
        "\n",
        "    def predict(self,input):\n",
        "\n",
        "        hidden = np.dot(input, self.weight_ih)\n",
        "\n",
        "        for i in range(len(hidden)):\n",
        "            hidden[i] = reLu(hidden[i])\n",
        "     \n",
        "        #  HIDDEN ====> OUTPUT\n",
        "\n",
        "        output = np.dot(hidden,self.weight_ho)\n",
        "        for i in range(len(output)):\n",
        "            output[i] = reLu(output[i])\n",
        "\n",
        "        return output[0]\n",
        "    \n",
        "    \n",
        "    def train(self, trainning_set, labels, epochs=1000):\n",
        "        \n",
        "        inputs = np.array(trainning_set)\n",
        "        \n",
        "        \n",
        "        for _ in range(epochs):\n",
        "            index  = np.random.randint(len(trainning_set))\n",
        "            self.train_step(inputs[index],labels[index])\n",
        "\n",
        "\n"
      ],
      "execution_count": 0,
      "outputs": []
    },
    {
      "cell_type": "code",
      "metadata": {
        "id": "n5du4NoTDAcG",
        "colab_type": "code",
        "outputId": "ef41dbf9-6956-4f72-bac2-c740cbecaf38",
        "colab": {
          "base_uri": "https://localhost:8080/",
          "height": 303
        }
      },
      "source": [
        "import matplotlib.pyplot as plt\n",
        "%matplotlib inline\n",
        "\n",
        "mynn = RedeNeural(1,2,1,0.00005);\n",
        "X = [1,2,3,4,5]\n",
        "y = [1,4,9,16,25]\n",
        "\n",
        "mynn.train(X,y,10000)\n",
        "\n",
        "\n",
        "a = mynn.weight_ih[0]\n",
        "b = mynn.weight_ho\n",
        "\n",
        "m = a[0]*b[0] + a[1]*b[1]\n",
        "print(m)\n",
        "\n",
        "ex = np.linspace(0,6,10)\n",
        "ey = m*ex\n",
        "\n",
        "plt.axis([0,6,0,30])\n",
        "plt.scatter(X,y,s = 30, c = \"red\")\n",
        "plt.plot(ex,ey)\n"
      ],
      "execution_count": 0,
      "outputs": [
        {
          "output_type": "stream",
          "text": [
            "[3.99000179]\n"
          ],
          "name": "stdout"
        },
        {
          "output_type": "execute_result",
          "data": {
            "text/plain": [
              "[<matplotlib.lines.Line2D at 0x7f50e882e668>]"
            ]
          },
          "metadata": {
            "tags": []
          },
          "execution_count": 15
        },
        {
          "output_type": "display_data",
          "data": {
            "image/png": "[encoded data removed]",
            "text/plain": [
              "<Figure size 432x288 with 1 Axes>"
            ]
          },
          "metadata": {
            "tags": []
          }
        }
      ]
    },
    {
      "cell_type": "markdown",
      "metadata": {
        "id": "C4OWGJOuEdiD",
        "colab_type": "text"
      },
      "source": [
        "###3.1.2 - Arredondando a derivada para baixo"
      ]
    },
    {
      "cell_type": "code",
      "metadata": {
        "id": "CiBVpuUZDAf1",
        "colab_type": "code",
        "colab": {}
      },
      "source": [
        "import numpy as np\n",
        "import matplotlib.pyplot as plt\n",
        "%matplotlib inline\n",
        "\n",
        "def act_func(x):\n",
        "    return x\n",
        "\n",
        "def reLu(x):\n",
        "    return max(x,0.0)\n",
        "\n",
        "class RedeNeural():\n",
        "    def __init__(self, n_inputs,n_hidden,n_outputs,learning_rate = 0.1):\n",
        "        self.n_inputs = n_inputs\n",
        "        self.n_hidden = n_hidden\n",
        "        self.n_outputs = n_outputs\n",
        "     \n",
        "        self.weight_ih = np.random.normal(0.0, pow(self.n_inputs, -0.5),\n",
        "(self.n_hidden, self.n_inputs))\n",
        "\n",
        "        self.weight_ih = np.transpose(self.weight_ih)\n",
        "        self.weight_ho = np.random.normal(0.0, pow(self.n_hidden, -0.5),\n",
        "(self.n_outputs, self.n_hidden))\n",
        "        self.weight_ho = np.transpose(self.weight_ho)\n",
        "        self.learning_rate = learning_rate\n",
        "\n",
        "    def train_step(self, input,target):\n",
        "\n",
        "        #  INPUT ====> HIDDEN\n",
        "        hidden = np.dot(input, self.weight_ih)\n",
        "        for i in range(self.n_hidden):\n",
        "            hidden[0][i] = reLu(hidden[0][i])\n",
        "    \n",
        "        #  HIDDEN ====> OUTPUT\n",
        "\n",
        "        output = np.dot(hidden,self.weight_ho)\n",
        "        for i in range(len(output)):\n",
        "            output[i] = reLu(output[i])\n",
        "        \n",
        "        \n",
        "        \n",
        "        \n",
        "        #BACKPROPAGATION\n",
        "        \n",
        "        ## OUTPUT ==> HIDDEN \n",
        "        \n",
        "        output_error = target - output\n",
        "        d_output = output\n",
        "        d_output[d_output <= 0.0] = 0.0\n",
        "        d_output[d_output > 0.0] = 1.0\n",
        "        gradient = self.learning_rate*output_error*d_output\n",
        "\n",
        "        weight_ho_deltas = np.dot(np.transpose(hidden),gradient)\n",
        "        self.weight_ho = np.add(self.weight_ho,weight_ho_deltas)\n",
        "        \n",
        "        ## HIDDEN ==> INPUT\n",
        "        \n",
        "        hidden_error = np.dot(output_error,np.transpose(self.weight_ho))\n",
        "        d_hidden = hidden\n",
        "        d_hidden[d_hidden<=0.0] = 0.0\n",
        "        d_hidden[d_hidden>0.0] = 1.0\n",
        "        gradient_H = self.learning_rate*hidden_error*d_hidden\n",
        "\n",
        "        weight_ih_deltas = np.dot(np.transpose(input),gradient_H)\n",
        "        self.weight_ih = np.add(self.weight_ih,weight_ih_deltas)\n",
        "\n",
        "        \n",
        "\n",
        "    def predict(self,input):\n",
        "\n",
        "        hidden = np.dot(input, self.weight_ih)\n",
        "        for i in range(len(hidden)):\n",
        "            hidden[i] = reLu(hidden[i])\n",
        "     \n",
        "        #  HIDDEN ====> OUTPUT\n",
        "\n",
        "        output = np.dot(hidden,self.weight_ho)\n",
        "        for i in range(len(output)):\n",
        "            output[i] = reLu(output[i])\n",
        "\n",
        "        return output[0]\n",
        "    \n",
        "    \n",
        "    def train(self, trainning_set, labels, epochs=1000):\n",
        "        \n",
        "        inputs = np.array(trainning_set)\n",
        "        \n",
        "        \n",
        "        for _ in range(epochs):\n",
        "            index  = np.random.randint(len(trainning_set))\n",
        "            self.train_step(inputs[index],labels[index])\n",
        "\n",
        "\n",
        "\n"
      ],
      "execution_count": 0,
      "outputs": []
    },
    {
      "cell_type": "code",
      "metadata": {
        "id": "SoGo1HsUATVP",
        "colab_type": "code",
        "outputId": "42298a39-b81f-4fbf-f9f0-124b0c231119",
        "colab": {
          "base_uri": "https://localhost:8080/",
          "height": 303
        }
      },
      "source": [
        "import matplotlib.pyplot as plt\n",
        "%matplotlib inline\n",
        "\n",
        "mynn = RedeNeural(1,2,1,0.00005);\n",
        "X = [1,2,3,4,5]\n",
        "y = [1,4,9,16,25]\n",
        "\n",
        "mynn.train(X,y,10000)\n",
        "\n",
        "\n",
        "a = mynn.weight_ih[0]\n",
        "b = mynn.weight_ho\n",
        "\n",
        "m = a[0]*b[0] + a[1]*b[1]\n",
        "print(m)\n",
        "\n",
        "ex = np.linspace(0,6,10)\n",
        "ey = m*ex\n",
        "\n",
        "plt.axis([0,6,0,30])\n",
        "plt.scatter(X,y,s = 30, c = \"red\")\n",
        "plt.plot(ex,ey)\n"
      ],
      "execution_count": 0,
      "outputs": [
        {
          "output_type": "stream",
          "text": [
            "[4.22430928]\n"
          ],
          "name": "stdout"
        },
        {
          "output_type": "execute_result",
          "data": {
            "text/plain": [
              "[<matplotlib.lines.Line2D at 0x7f50e87e4b38>]"
            ]
          },
          "metadata": {
            "tags": []
          },
          "execution_count": 18
        },
        {
          "output_type": "display_data",
          "data": {
            "image/png": "[encoded data removed]",
            "text/plain": [
              "<Figure size 432x288 with 1 Axes>"
            ]
          },
          "metadata": {
            "tags": []
          }
        }
      ]
    },
    {
      "cell_type": "markdown",
      "metadata": {
        "id": "8A4yv-enDAp4",
        "colab_type": "text"
      },
      "source": [
        "###3.1.3 - Definindo 0.5 para o caso médio"
      ]
    },
    {
      "cell_type": "code",
      "metadata": {
        "id": "NY3oM_K4DAzi",
        "colab_type": "code",
        "colab": {}
      },
      "source": [
        "\n",
        "import numpy as np\n",
        "import matplotlib.pyplot as plt\n",
        "%matplotlib inline\n",
        "\n",
        "def act_func(x):\n",
        "    return x\n",
        "\n",
        "def reLu(x):\n",
        "    return max(x,0.0)\n",
        "\n",
        "\n",
        "class RedeNeural():\n",
        "    def __init__(self, n_inputs,n_hidden,n_outputs,learning_rate = 0.1):\n",
        "        self.n_inputs = n_inputs\n",
        "        self.n_hidden = n_hidden\n",
        "        self.n_outputs = n_outputs\n",
        "        \n",
        "        \n",
        "        self.weight_ih = np.random.normal(0.0, pow(self.n_inputs, -0.5),\n",
        "(self.n_hidden, self.n_inputs))\n",
        "        \n",
        "        \n",
        "        self.weight_ih = np.transpose(self.weight_ih)\n",
        "        self.weight_ho = np.random.normal(0.0, pow(self.n_hidden, -0.5),\n",
        "(self.n_outputs, self.n_hidden))\n",
        "        self.weight_ho = np.transpose(self.weight_ho)\n",
        "        self.learning_rate = learning_rate\n",
        "\n",
        "    def train_step(self, input,target):\n",
        "        #np.dot : simples multiplicacao matricial\n",
        "   \n",
        "\n",
        "        #  INPUT ====> HIDDEN\n",
        "    \n",
        "        hidden = np.dot(input, self.weight_ih)\n",
        "        for i in range(self.n_hidden):\n",
        "            hidden[0][i] = reLu(hidden[0][i])\n",
        "    \n",
        "        #  HIDDEN ====> OUTPUT\n",
        "\n",
        "        output = np.dot(hidden,self.weight_ho)\n",
        "        for i in range(len(output)):\n",
        "            output[i] = reLu(output[i])\n",
        "        \n",
        "        \n",
        "        \n",
        "        \n",
        "        #BACKPROPAGATION\n",
        "        ## OUTPUT ==> HIDDEN \n",
        "        output_error = target - output\n",
        "        \n",
        "        d_output = output\n",
        "        d_output[d_output < 0.0] = 0.0\n",
        "        d_output[d_output > 0.0] = 1.0\n",
        "        d_output[d_output == 0.0] = 0.5\n",
        "        gradient = self.learning_rate*output_error*d_output\n",
        "        \n",
        "        weight_ho_deltas = np.dot(np.transpose(hidden),gradient)\n",
        "        self.weight_ho = np.add(self.weight_ho,weight_ho_deltas)\n",
        "        \n",
        "        ## HIDDEN ==> INPUT\n",
        "        \n",
        "        hidden_error = np.dot(output_error,np.transpose(self.weight_ho))\n",
        "        d_hidden = hidden\n",
        "        d_hidden[d_hidden<0.0] = 0.0\n",
        "        d_hidden[d_hidden>0.0] = 1.0\n",
        "        d_hidden[d_hidden==0.0] = 0.5\n",
        "        gradient_H = self.learning_rate*hidden_error*d_hidden\n",
        "       \n",
        "        weight_ih_deltas = np.dot(np.transpose(input),gradient_H)\n",
        "        self.weight_ih = np.add(self.weight_ih,weight_ih_deltas)\n",
        "\n",
        "        \n",
        "\n",
        "    def predict(self,input):\n",
        "\n",
        "        hidden = np.dot(input, self.weight_ih)\n",
        "        for i in range(len(hidden)):\n",
        "            hidden[i] = reLu(hidden[i])\n",
        "     \n",
        "        #  HIDDEN ====> OUTPUT\n",
        "\n",
        "        output = np.dot(hidden,self.weight_ho)\n",
        "        for i in range(len(output)):\n",
        "            output[i] = reLu(output[i])\n",
        "\n",
        "        return output[0]\n",
        "    \n",
        "    \n",
        "    def train(self, trainning_set, labels, epochs=1000):\n",
        "        \n",
        "        inputs = np.array(trainning_set)\n",
        "        \n",
        "        \n",
        "        for _ in range(epochs):\n",
        "            index  = np.random.randint(len(trainning_set))\n",
        "            self.train_step(inputs[index],labels[index])\n",
        "\n",
        "\n",
        "\n",
        "\n"
      ],
      "execution_count": 0,
      "outputs": []
    },
    {
      "cell_type": "code",
      "metadata": {
        "id": "XxewpfVpDA3L",
        "colab_type": "code",
        "outputId": "fac8fdd2-4852-4066-a5ed-9f708ad57692",
        "colab": {
          "base_uri": "https://localhost:8080/",
          "height": 303
        }
      },
      "source": [
        "import matplotlib.pyplot as plt\n",
        "%matplotlib inline\n",
        "\n",
        "mynn = RedeNeural(1,2,1,0.00005);\n",
        "X = [1,2,3,4,5]\n",
        "y = [1,4,9,16,25]\n",
        "\n",
        "mynn.train(X,y,100000)\n",
        "\n",
        "\n",
        "a = mynn.weight_ih[0]\n",
        "b = mynn.weight_ho\n",
        "\n",
        "m = a[0]*b[0] + a[1]*b[1]\n",
        "print(m)\n",
        "\n",
        "\n",
        "ex = np.linspace(0,6,10)\n",
        "ey = m*ex\n",
        "\n",
        "plt.axis([0,6,0,30])\n",
        "plt.scatter(X,y,s = 30, c = \"red\")\n",
        "plt.plot(ex,ey)\n"
      ],
      "execution_count": 0,
      "outputs": [
        {
          "output_type": "stream",
          "text": [
            "[4.53746875]\n"
          ],
          "name": "stdout"
        },
        {
          "output_type": "execute_result",
          "data": {
            "text/plain": [
              "[<matplotlib.lines.Line2D at 0x7f50e86dce10>]"
            ]
          },
          "metadata": {
            "tags": []
          },
          "execution_count": 24
        },
        {
          "output_type": "display_data",
          "data": {
            "image/png": "[encoded data removed]",
            "text/plain": [
              "<Figure size 432x288 with 1 Axes>"
            ]
          },
          "metadata": {
            "tags": []
          }
        }
      ]
    },
    {
      "cell_type": "markdown",
      "metadata": {
        "id": "N-w1V22pDBH2",
        "colab_type": "text"
      },
      "source": [
        "##3.2 - Utilzando $max(x,0)$ na oculta e $y = x$ no output"
      ]
    },
    {
      "cell_type": "markdown",
      "metadata": {
        "id": "77OAMkajBJ5e",
        "colab_type": "text"
      },
      "source": [
        "###3.2.1 - Arredondando a derivada para cima"
      ]
    },
    {
      "cell_type": "code",
      "metadata": {
        "id": "PICI8prWBKkY",
        "colab_type": "code",
        "colab": {}
      },
      "source": [
        "import numpy as np\n",
        "import matplotlib.pyplot as plt\n",
        "%matplotlib inline\n",
        "\n",
        "def act_func(x):\n",
        "    return x\n",
        "\n",
        "def reLu(x):\n",
        "    return max(x,0.0)\n",
        "\n",
        "class RedeNeural():\n",
        "    def __init__(self, n_inputs,n_hidden,n_outputs,learning_rate = 0.1):\n",
        "        self.n_inputs = n_inputs\n",
        "        self.n_hidden = n_hidden\n",
        "        self.n_outputs = n_outputs \n",
        "        self.weight_ih = np.random.normal(0.0, pow(self.n_inputs, -0.5),\n",
        "(self.n_hidden, self.n_inputs))\n",
        "        \n",
        "        \n",
        "        self.weight_ih = np.transpose(self.weight_ih)\n",
        "        self.weight_ho = np.random.normal(0.0, pow(self.n_hidden, -0.5),\n",
        "(self.n_outputs, self.n_hidden))\n",
        "        self.weight_ho = np.transpose(self.weight_ho)\n",
        "        self.learning_rate = learning_rate\n",
        "\n",
        "    def train_step(self, input,target):   \n",
        "\n",
        "        #  INPUT ====> HIDDEN\n",
        "        hidden = np.dot(input, self.weight_ih)\n",
        "        for i in range(self.n_hidden):\n",
        "            hidden[0][i] = reLu(hidden[0][i])\n",
        "    \n",
        "        #  HIDDEN ====> OUTPUT\n",
        "\n",
        "        output = np.dot(hidden,self.weight_ho)\n",
        "        for i in range(len(output)):\n",
        "            output[i] = act_func(output[i])\n",
        "            \n",
        "        \n",
        "        \n",
        "        #BACKPROPAGATION\n",
        "        \n",
        "        ## OUTPUT ==> HIDDEN \n",
        "        \n",
        "        output_error = target - output\n",
        "        d_output = 1\n",
        "        gradient = self.learning_rate*output_error*d_output\n",
        "        \n",
        "        weight_ho_deltas = np.dot(np.transpose(hidden),gradient)\n",
        "        self.weight_ho = np.add(self.weight_ho,weight_ho_deltas)\n",
        "        \n",
        "        ## HIDDEN ==> INPUT\n",
        "        \n",
        "        hidden_error = np.dot(output_error,np.transpose(self.weight_ho))\n",
        "        d_hidden = hidden\n",
        "        d_hidden[d_hidden<0.0] = 0.0\n",
        "        d_hidden[d_hidden>=0.0] = 1.0\n",
        "        gradient_H = self.learning_rate*hidden_error*d_hidden\n",
        "        \n",
        "        weight_ih_deltas = np.dot(np.transpose(input),gradient_H)\n",
        "        self.weight_ih = np.add(self.weight_ih,weight_ih_deltas)\n",
        "\n",
        "\n",
        "    def predict(self,input):\n",
        "\n",
        "        hidden = np.dot(input, self.weight_ih)\n",
        "        for i in range(len(hidden)):\n",
        "            hidden[i] = reLu(hidden[i])\n",
        "     \n",
        "        #  HIDDEN ====> OUTPUT\n",
        "\n",
        "        output = np.dot(hidden,self.weight_ho)\n",
        "        for i in range(len(output)):\n",
        "            output[i] = act_func(output[i])\n",
        "\n",
        "        return output[0]\n",
        "    \n",
        "    \n",
        "    def train(self, trainning_set, labels, epochs=1000):\n",
        "        \n",
        "        inputs = np.array(trainning_set)\n",
        "        \n",
        "        \n",
        "        for _ in range(epochs):\n",
        "            index  = np.random.randint(len(trainning_set))\n",
        "            self.train_step(inputs[index],labels[index])\n",
        "\n",
        "\n",
        "\n",
        "\n"
      ],
      "execution_count": 0,
      "outputs": []
    },
    {
      "cell_type": "code",
      "metadata": {
        "id": "DqAznH2HBKo0",
        "colab_type": "code",
        "outputId": "26bbbd27-c0da-4df6-f75a-60ed03cd0509",
        "colab": {
          "base_uri": "https://localhost:8080/",
          "height": 303
        }
      },
      "source": [
        "import matplotlib.pyplot as plt\n",
        "%matplotlib inline\n",
        "\n",
        "mynn = RedeNeural(1,2,1,0.00005);\n",
        "X = [1,2,3,4,5]\n",
        "y = [1,4,9,16,25]\n",
        "\n",
        "mynn.train(X,y,100000)\n",
        "\n",
        "\n",
        "a = mynn.weight_ih[0]\n",
        "b = mynn.weight_ho\n",
        "\n",
        "m = a[0]*b[0] + a[1]*b[1]\n",
        "print(m)\n",
        "\n",
        "ex = np.linspace(0,6,10)\n",
        "ey = m*ex\n",
        "\n",
        "plt.axis([0,6,0,30])\n",
        "plt.scatter(X,y,s = 30, c = \"red\")\n",
        "plt.plot(ex,ey)\n"
      ],
      "execution_count": 0,
      "outputs": [
        {
          "output_type": "stream",
          "text": [
            "[4.84676781]\n"
          ],
          "name": "stdout"
        },
        {
          "output_type": "execute_result",
          "data": {
            "text/plain": [
              "[<matplotlib.lines.Line2D at 0x7f50e8653a20>]"
            ]
          },
          "metadata": {
            "tags": []
          },
          "execution_count": 30
        },
        {
          "output_type": "display_data",
          "data": {
            "image/png": "[encoded data removed]",
            "text/plain": [
              "<Figure size 432x288 with 1 Axes>"
            ]
          },
          "metadata": {
            "tags": []
          }
        }
      ]
    },
    {
      "cell_type": "markdown",
      "metadata": {
        "id": "w3iaNGL8BK2c",
        "colab_type": "text"
      },
      "source": [
        "###3.2.2 - Arredondando a derivada para baixo"
      ]
    },
    {
      "cell_type": "code",
      "metadata": {
        "id": "c5ZUXe2yBLBy",
        "colab_type": "code",
        "colab": {}
      },
      "source": [
        "import numpy as np\n",
        "import matplotlib.pyplot as plt\n",
        "%matplotlib inline\n",
        "\n",
        "def act_func(x):\n",
        "    return x\n",
        "\n",
        "def reLu(x):\n",
        "    return max(x,0.0)\n",
        "\n",
        "\n",
        "class RedeNeural():\n",
        "    def __init__(self, n_inputs,n_hidden,n_outputs,learning_rate = 0.1):\n",
        "        self.n_inputs = n_inputs\n",
        "        self.n_hidden = n_hidden\n",
        "        self.n_outputs = n_outputs\n",
        "\n",
        "        self.weight_ih = np.random.normal(0.0, pow(self.n_inputs, -0.5),\n",
        "(self.n_hidden, self.n_inputs))\n",
        "        \n",
        "  \n",
        "        self.weight_ih = np.transpose(self.weight_ih)\n",
        "        self.weight_ho = np.random.normal(0.0, pow(self.n_hidden, -0.5),\n",
        "(self.n_outputs, self.n_hidden))\n",
        "        self.weight_ho = np.transpose(self.weight_ho)\n",
        "        self.learning_rate = learning_rate\n",
        "\n",
        "    def train_step(self, input,target):\n",
        "\n",
        "        #  INPUT ====> HIDDEN\n",
        "        hidden = np.dot(input, self.weight_ih)\n",
        "        for i in range(self.n_hidden):\n",
        "            hidden[0][i] = reLu(hidden[0][i])\n",
        "    \n",
        "        #  HIDDEN ====> OUTPUT\n",
        "\n",
        "        output = np.dot(hidden,self.weight_ho)\n",
        "        for i in range(len(output)):\n",
        "            output[i] = act_func(output[i])\n",
        "        \n",
        "       \n",
        "        \n",
        "        #BACKPROPAGATION\n",
        "        \n",
        "        ## OUTPUT ==> HIDDEN \n",
        "        \n",
        "        output_error = target - output\n",
        "        d_output = 1\n",
        "        gradient = self.learning_rate*output_error*d_output\n",
        "        \n",
        "        weight_ho_deltas = np.dot(np.transpose(hidden),gradient)\n",
        "        \n",
        "        ## HIDDEN ==> INPUT\n",
        "        hidden_error = np.dot(output_error,np.transpose(self.weight_ho))\n",
        "        \n",
        "        d_hidden = hidden\n",
        "        d_hidden[d_hidden<=0.0] = 0.0\n",
        "        d_hidden[d_hidden>0.0] = 1.0\n",
        "        gradient_H = self.learning_rate*hidden_error*d_hidden\n",
        "        \n",
        "        weight_ih_deltas = np.dot(np.transpose(input),gradient_H)\n",
        "        self.weight_ih = np.add(self.weight_ih,weight_ih_deltas)\n",
        "\n",
        "        \n",
        "\n",
        "    def predict(self,input):\n",
        "\n",
        "        hidden = np.dot(input, self.weight_ih)\n",
        "        for i in range(len(hidden)):\n",
        "            hidden[i] = reLu(hidden[i])\n",
        "     \n",
        "        #  HIDDEN ====> OUTPUT\n",
        "\n",
        "        output = np.dot(hidden,self.weight_ho)\n",
        "        for i in range(len(output)):\n",
        "            output[i] = act_func(output[i])\n",
        "\n",
        "        return output[0]\n",
        "    \n",
        "    \n",
        "    def train(self, trainning_set, labels, epochs=1000):\n",
        "        \n",
        "        inputs = np.array(trainning_set)\n",
        "        \n",
        "        \n",
        "        for _ in range(epochs):\n",
        "            index  = np.random.randint(len(trainning_set))\n",
        "            self.train_step(inputs[index],labels[index])\n",
        "\n",
        "\n",
        "\n",
        "\n"
      ],
      "execution_count": 0,
      "outputs": []
    },
    {
      "cell_type": "code",
      "metadata": {
        "id": "2jYQ6BnoBLFh",
        "colab_type": "code",
        "outputId": "0560b8c4-9d63-4651-a0ec-403e0ea1c619",
        "colab": {
          "base_uri": "https://localhost:8080/",
          "height": 303
        }
      },
      "source": [
        "import matplotlib.pyplot as plt\n",
        "%matplotlib inline\n",
        "\n",
        "mynn = RedeNeural(1,2,1,0.00005);\n",
        "X = [1,2,3,4,5]\n",
        "y = [1,4,9,16,25]\n",
        "\n",
        "mynn.train(X,y,100000)\n",
        "\n",
        "\n",
        "a = mynn.weight_ih[0]\n",
        "b = mynn.weight_ho\n",
        "\n",
        "m = a[0]*b[0] + a[1]*b[1]\n",
        "print(m)\n",
        "\n",
        "ex = np.linspace(0,6,10)\n",
        "ey = m*ex\n",
        "\n",
        "plt.axis([0,6,0,30])\n",
        "plt.scatter(X,y,s = 30, c = \"red\")\n",
        "plt.plot(ex,ey)\n"
      ],
      "execution_count": 0,
      "outputs": [
        {
          "output_type": "stream",
          "text": [
            "[4.38160583]\n"
          ],
          "name": "stdout"
        },
        {
          "output_type": "execute_result",
          "data": {
            "text/plain": [
              "[<matplotlib.lines.Line2D at 0x7f50e85d45f8>]"
            ]
          },
          "metadata": {
            "tags": []
          },
          "execution_count": 37
        },
        {
          "output_type": "display_data",
          "data": {
            "image/png": "[encoded data removed]",
            "text/plain": [
              "<Figure size 432x288 with 1 Axes>"
            ]
          },
          "metadata": {
            "tags": []
          }
        }
      ]
    },
    {
      "cell_type": "markdown",
      "metadata": {
        "id": "AUMIz6PTBLTC",
        "colab_type": "text"
      },
      "source": [
        "###3.2.3 - Definindo 0.5 para o caso médio"
      ]
    },
    {
      "cell_type": "code",
      "metadata": {
        "id": "bKgVW7tHBMnr",
        "colab_type": "code",
        "colab": {}
      },
      "source": [
        "import numpy as np\n",
        "import matplotlib.pyplot as plt\n",
        "%matplotlib inline\n",
        "\n",
        "def act_func(x):\n",
        "    return x\n",
        "\n",
        "def reLu(x):\n",
        "    return max(x,0.0)\n",
        "\n",
        "\n",
        "class RedeNeural():\n",
        "    def __init__(self, n_inputs,n_hidden,n_outputs,learning_rate = 0.1):\n",
        "        self.n_inputs = n_inputs\n",
        "        self.n_hidden = n_hidden\n",
        "        self.n_outputs = n_outputs\n",
        "        \n",
        "        self.weight_ih = np.random.normal(0.0, pow(self.n_inputs, -0.5),\n",
        "(self.n_hidden, self.n_inputs))\n",
        "        \n",
        "        \n",
        "        self.weight_ih = np.transpose(self.weight_ih)\n",
        "        self.weight_ho = np.random.normal(0.0, pow(self.n_hidden, -0.5),\n",
        "(self.n_outputs, self.n_hidden))\n",
        "        self.weight_ho = np.transpose(self.weight_ho)\n",
        "        self.learning_rate = learning_rate\n",
        "\n",
        "    def train_step(self, input,target):\n",
        "        \n",
        "        #  INPUT ====> HIDDEN\n",
        "        hidden = np.dot(input, self.weight_ih)\n",
        "        for i in range(self.n_hidden):\n",
        "            hidden[0][i] = reLu(hidden[0][i])\n",
        "    \n",
        "        #  HIDDEN ====> OUTPUT\n",
        "\n",
        "        output = np.dot(hidden,self.weight_ho)\n",
        "        for i in range(len(output)):\n",
        "            output[i] = act_func(output[i])\n",
        "        \n",
        "        \n",
        "        \n",
        "        #BACKPROPAGATION\n",
        "        \n",
        "        ## OUTPUT ==> HIDDEN \n",
        "        \n",
        "        output_error = target - output\n",
        "        d_output = 1;\n",
        "        gradient = self.learning_rate*output_error*d_output\n",
        "        \n",
        "        weight_ho_deltas = np.dot(np.transpose(hidden),gradient)\n",
        "        self.weight_ho = np.add(self.weight_ho,weight_ho_deltas)\n",
        "        \n",
        "        ## HIDDEN ==> INPUT\n",
        "        \n",
        "        hidden_error = np.dot(output_error,np.transpose(self.weight_ho))\n",
        "        d_hidden = hidden\n",
        "        d_hidden[d_hidden < 0.0] = 0.0\n",
        "        d_hidden[d_hidden == 0.0] = 1.0\n",
        "        d_hidden[d_hidden == 0.5]\n",
        "        gradient_H = self.learning_rate*hidden_error*d_hidden\n",
        "       \n",
        "        weight_ih_deltas = np.dot(np.transpose(input),gradient_H)\n",
        "        self.weight_ih = np.add(self.weight_ih,weight_ih_deltas)\n",
        "\n",
        "        \n",
        "\n",
        "    def predict(self,input):\n",
        "\n",
        "        hidden = np.dot(input, self.weight_ih)\n",
        "        for i in range(len(hidden)):\n",
        "            hidden[i] = reLu(hidden[i])\n",
        "     \n",
        "        #  HIDDEN ====> OUTPUT\n",
        "\n",
        "        output = np.dot(hidden,self.weight_ho)\n",
        "        for i in range(len(output)):\n",
        "            output[i] = act_func(output[i])\n",
        "\n",
        "        return output[0]\n",
        "    \n",
        "    \n",
        "    def train(self, trainning_set, labels, epochs=1000):\n",
        "        \n",
        "        inputs = np.array(trainning_set)\n",
        "        \n",
        "        \n",
        "        for _ in range(epochs):\n",
        "            index  = np.random.randint(len(trainning_set))\n",
        "            self.train_step(inputs[index],labels[index])\n",
        "\n",
        "\n",
        "\n",
        "\n"
      ],
      "execution_count": 0,
      "outputs": []
    },
    {
      "cell_type": "code",
      "metadata": {
        "id": "kWWSMQYeBMr1",
        "colab_type": "code",
        "outputId": "f9818960-c769-469c-b7a8-c95730d15f83",
        "colab": {
          "base_uri": "https://localhost:8080/",
          "height": 303
        }
      },
      "source": [
        "import matplotlib.pyplot as plt\n",
        "%matplotlib inline\n",
        "\n",
        "mynn = RedeNeural(1,2,1,0.00005);\n",
        "X = [1,2,3,4,5]\n",
        "y = [1,4,9,16,25]\n",
        "\n",
        "mynn.train(X,y,10000)\n",
        "\n",
        "\n",
        "a = mynn.weight_ih[0]\n",
        "b = mynn.weight_ho\n",
        "\n",
        "m = a[0]*b[0] + a[1]*b[1]\n",
        "print(m)\n",
        "\n",
        "ex = np.linspace(0,6,10)\n",
        "ey = m*ex\n",
        "\n",
        "plt.axis([0,6,0,30])\n",
        "plt.scatter(X,y,s = 30, c = \"red\")\n",
        "plt.plot(ex,ey)\n"
      ],
      "execution_count": 0,
      "outputs": [
        {
          "output_type": "stream",
          "text": [
            "[3.92861681]\n"
          ],
          "name": "stdout"
        },
        {
          "output_type": "execute_result",
          "data": {
            "text/plain": [
              "[<matplotlib.lines.Line2D at 0x7f50e8487c50>]"
            ]
          },
          "metadata": {
            "tags": []
          },
          "execution_count": 45
        },
        {
          "output_type": "display_data",
          "data": {
            "image/png": "[encoded data removed]",
            "text/plain": [
              "<Figure size 432x288 with 1 Axes>"
            ]
          },
          "metadata": {
            "tags": []
          }
        }
      ]
    }
  ]
}
