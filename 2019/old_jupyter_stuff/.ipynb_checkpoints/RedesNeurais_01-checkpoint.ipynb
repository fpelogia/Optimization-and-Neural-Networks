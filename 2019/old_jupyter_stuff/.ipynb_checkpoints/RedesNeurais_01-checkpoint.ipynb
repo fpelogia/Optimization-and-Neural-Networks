{
  "nbformat": 4,
  "nbformat_minor": 0,
  "metadata": {
    "colab": {
      "name": "RedesNeurais_01.ipynb",
      "version": "0.3.2",
      "provenance": [],
      "collapsed_sections": [
        "ufJYEs6_-Zt5",
        "DuMsefE__oZT",
        "NwJsml5G_yPA"
      ],
      "include_colab_link": true
    },
    "kernelspec": {
      "name": "python3",
      "display_name": "Python 3"
    }
  },
  "cells": [
    {
      "cell_type": "markdown",
      "metadata": {
        "id": "view-in-github",
        "colab_type": "text"
      },
      "source": [
        "<a href=\"https://colab.research.google.com/github/fpelogia/Optimization-and-Neural-Networks/blob/master/RedesNeurais_01.ipynb\" target=\"_parent\"><img src=\"https://colab.research.google.com/assets/colab-badge.svg\" alt=\"Open In Colab\"/></a>"
      ]
    },
    {
      "cell_type": "markdown",
      "metadata": {
        "id": "K-3jp_F4-U_h",
        "colab_type": "text"
      },
      "source": [
        "#Redes Neurais\n",
        "[Voltar](https://colab.research.google.com/drive/1zGxVatpjlZtdtECAikT1eKP7EQ50m-Ur)"
      ]
    },
    {
      "cell_type": "markdown",
      "metadata": {
        "id": "ufJYEs6_-Zt5",
        "colab_type": "text"
      },
      "source": [
        "#1 - Função de ativação linear\n"
      ]
    },
    {
      "cell_type": "code",
      "metadata": {
        "id": "L2v6JYDc-aE4",
        "colab_type": "code",
        "colab": {}
      },
      "source": [
        "import numpy as np\n",
        "import matplotlib.pyplot as plt\n",
        "%matplotlib inline\n",
        "\n",
        "def act_func(x):\n",
        "    return x\n",
        "\n",
        "class RedeNeural():\n",
        "    def __init__(self, n_inputs,n_hidden,n_outputs,learning_rate = 0.1):\n",
        "        \n",
        "        self.n_inputs = n_inputs\n",
        "        self.n_hidden = n_hidden\n",
        "        self.n_outputs = n_outputs\n",
        "        \n",
        "        self.weight_ih = np.random.normal(0.0, pow(self.n_inputs, -0.5),\n",
        "(self.n_hidden, self.n_inputs))\n",
        "        self.weight_ih = np.transpose(self.weight_ih)\n",
        "        self.weight_ho = np.random.normal(0.0, pow(self.n_hidden, -0.5),\n",
        "(self.n_outputs, self.n_hidden))\n",
        "        self.weight_ho = np.transpose(self.weight_ho)\n",
        "        \n",
        "        self.learning_rate = learning_rate\n",
        "        \n",
        "        \n",
        "\n",
        "    def train_step(self, input,target):\n",
        "        #  INPUT ====> HIDDEN\n",
        "        hidden = np.dot(input, self.weight_ih)\n",
        "        for i in range(len(hidden)):\n",
        "            hidden[i] = act_func(hidden[i])\n",
        "    \n",
        "        #  HIDDEN ====> OUTPUT\n",
        "        output = np.dot(hidden,self.weight_ho)\n",
        "        for i in range(len(output)):\n",
        "            output[i] = act_func(output[i])\n",
        "\n",
        "        #==================BACKPROPAGATION=====================#\n",
        "\n",
        "        ## OUTPUT ==> HIDDEN \n",
        "        output_error = target - output\n",
        "        d_output = 1 \n",
        "        gradient = self.learning_rate*output_error*d_output\n",
        "\n",
        "        weight_ho_deltas = np.dot(np.transpose(hidden),gradient)\n",
        "        self.weight_ho = np.add(self.weight_ho,weight_ho_deltas)\n",
        "        \n",
        "        ## HIDDEN ==> INPUT\n",
        "        hidden_error = np.dot(output_error,np.transpose(self.weight_ho))\n",
        "        d_hidden = 1\n",
        "        gradient_H = self.learning_rate*hidden_error*d_hidden\n",
        "\n",
        "        weight_ih_deltas = np.dot(np.transpose(input),gradient_H)\n",
        "        self.weight_ih = np.add(self.weight_ih,weight_ih_deltas)\n",
        "\n",
        "        \n",
        "\n",
        "    def predict(self,input):\n",
        "\n",
        "        hidden = np.dot(input, self.weight_ih)\n",
        "        for i in range(len(hidden)):\n",
        "            hidden[i] = act_func(hidden[i])\n",
        "     \n",
        "        #  HIDDEN ====> OUTPUT\n",
        "\n",
        "        output = np.dot(hidden,self.weight_ho)\n",
        "        for i in range(len(output)):\n",
        "            output[i] = act_func(output[i])\n",
        "\n",
        "        return output[0]\n",
        "    \n",
        "    \n",
        "    def train(self, trainning_set, labels, epochs=1000):\n",
        "        \n",
        "        inputs = np.array(trainning_set)\n",
        "        \n",
        "        \n",
        "        for _ in range(epochs):\n",
        "            index  = np.random.randint(len(trainning_set))\n",
        "            self.train_step(inputs[index],labels[index])\n",
        "\n",
        "\n"
      ],
      "execution_count": 0,
      "outputs": []
    },
    {
      "cell_type": "markdown",
      "metadata": {
        "id": "DuMsefE__oZT",
        "colab_type": "text"
      },
      "source": [
        "\n",
        "##1.1) Treinando para $y = x$\n",
        "\n",
        "![picture](https://drive.google.com/uc?id=1nBuP1l4dsje0q3Vz79z4Bt5Y6X_V8rGn)"
      ]
    },
    {
      "cell_type": "code",
      "metadata": {
        "id": "LXbK1J33-aea",
        "colab_type": "code",
        "colab": {}
      },
      "source": [
        "mynn = RedeNeural(1,1,1,0.01)\n",
        "\n",
        "X = [1,2,3,4]\n",
        "\n",
        "mynn.train(X,X,epochs = 1000)"
      ],
      "execution_count": 0,
      "outputs": []
    },
    {
      "cell_type": "code",
      "metadata": {
        "id": "WE7hBqId_sAE",
        "colab_type": "code",
        "outputId": "6cba0fa6-8d4e-4016-9e5b-17377c809361",
        "colab": {
          "base_uri": "https://localhost:8080/",
          "height": 34
        }
      },
      "source": [
        "# TESTANDO A REDE\n",
        "mynn.predict([1024])"
      ],
      "execution_count": 0,
      "outputs": [
        {
          "output_type": "execute_result",
          "data": {
            "text/plain": [
              "1023.9999999999998"
            ]
          },
          "metadata": {
            "tags": []
          },
          "execution_count": 13
        }
      ]
    },
    {
      "cell_type": "code",
      "metadata": {
        "id": "u3D_v9ss_t4E",
        "colab_type": "code",
        "outputId": "5c16072d-7d24-49b2-9160-a0ba0a4945f7",
        "colab": {
          "base_uri": "https://localhost:8080/",
          "height": 51
        }
      },
      "source": [
        "    # VENDO OS PESOS A E B\n",
        "print('A = ',mynn.weight_ih)\n",
        "print('B = ',mynn.weight_ho)"
      ],
      "execution_count": 0,
      "outputs": [
        {
          "output_type": "stream",
          "text": [
            "A =  [[-0.92296316]]\n",
            "B =  [[-1.08346686]]\n"
          ],
          "name": "stdout"
        }
      ]
    },
    {
      "cell_type": "markdown",
      "metadata": {
        "id": "NwJsml5G_yPA",
        "colab_type": "text"
      },
      "source": [
        "\n",
        "##1.2) Tentando fazer ela aproximar $x^2$\n"
      ]
    },
    {
      "cell_type": "code",
      "metadata": {
        "id": "sZDVAbmsABmp",
        "colab_type": "code",
        "outputId": "1f5a250d-9273-4836-cce9-033ed2485e5c",
        "colab": {
          "base_uri": "https://localhost:8080/",
          "height": 303
        }
      },
      "source": [
        "import matplotlib.pyplot as plt\n",
        "%matplotlib inline\n",
        "\n",
        "mynn = RedeNeural(1,2,1,0.01);\n",
        "X = [1,2,3,4,5]\n",
        "y = [1,4,9,16,25]\n",
        "\n",
        "mynn.train(X,y,10)\n",
        "\n",
        "\n",
        "a = mynn.weight_ih[0]\n",
        "b = mynn.weight_ho\n",
        "\n",
        "m = a[0]*b[0] + a[1]*b[1]\n",
        "print(m)\n",
        "\n",
        "ex = np.linspace(0,6,10)\n",
        "ey = m*ex\n",
        "\n",
        "plt.axis([0,6,0,30])\n",
        "plt.scatter(X,y,s = 30, c = \"red\")\n",
        "plt.plot(ex,ey)\n"
      ],
      "execution_count": 0,
      "outputs": [
        {
          "output_type": "stream",
          "text": [
            "[3.1945186]\n"
          ],
          "name": "stdout"
        },
        {
          "output_type": "execute_result",
          "data": {
            "text/plain": [
              "[<matplotlib.lines.Line2D at 0x7f5d91292fd0>]"
            ]
          },
          "metadata": {
            "tags": []
          },
          "execution_count": 43
        },
        {
          "output_type": "display_data",
          "data": {
            "image/png": "[encoded data removed]",
            "text/plain": [
              "<Figure size 432x288 with 1 Axes>"
            ]
          },
          "metadata": {
            "tags": []
          }
        }
      ]
    }
  ]
}
