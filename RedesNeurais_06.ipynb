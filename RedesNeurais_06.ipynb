{
  "nbformat": 4,
  "nbformat_minor": 0,
  "metadata": {
    "colab": {
      "name": "RedesNeurais_06.ipynb",
      "version": "0.3.2",
      "provenance": [],
      "collapsed_sections": [],
      "include_colab_link": true
    },
    "kernelspec": {
      "name": "python3",
      "display_name": "Python 3"
    }
  },
  "cells": [
    {
      "cell_type": "markdown",
      "metadata": {
        "id": "view-in-github",
        "colab_type": "text"
      },
      "source": [
        "<a href=\"https://colab.research.google.com/github/fpelogia/Optimization-and-Neural-Networks/blob/master/RedesNeurais_06.ipynb\" target=\"_parent\"><img src=\"https://colab.research.google.com/assets/colab-badge.svg\" alt=\"Open In Colab\"/></a>"
      ]
    },
    {
      "cell_type": "markdown",
      "metadata": {
        "id": "q2dfXcvDxO4z",
        "colab_type": "text"
      },
      "source": [
        "#Redes Neurais\n",
        "[Voltar](https://colab.research.google.com/drive/1zGxVatpjlZtdtECAikT1eKP7EQ50m-Ur)"
      ]
    },
    {
      "cell_type": "markdown",
      "metadata": {
        "id": "YjwKkTGgxXqb",
        "colab_type": "text"
      },
      "source": [
        "#6 - Utilizando bias em uma rede simples\n",
        "\n",
        "[Solução de Mínimos Quadrados para esssa rede](https://drive.google.com/uc?id=1-zRaSOHeOVXekfD-SiP8cLvpecVaZN3G)\n",
        "\n",
        "$$(w_1w_3 + w_2w_4) = 6$$\n",
        "$$(w_3b_1 +b_2w_2+b_3) = -7$$"
      ]
    },
    {
      "cell_type": "code",
      "metadata": {
        "id": "ESVTdovKxVRf",
        "colab_type": "code",
        "colab": {}
      },
      "source": [
        "import numpy as np\n",
        "import matplotlib.pyplot as plt\n",
        "%matplotlib inline\n",
        "\n",
        "def act_func(x):\n",
        "    return x\n",
        "\n",
        "class RedeNeural():\n",
        "    def __init__(self, n_inputs,n_hidden,n_outputs,learning_rate = 0.1,ignore_biases = False):\n",
        "        self.n_inputs = n_inputs\n",
        "        self.n_hidden = n_hidden\n",
        "        self.n_outputs = n_outputs\n",
        "        \n",
        "        if not ignore_biases:\n",
        "            self.bias_ih = np.random.rand(1,self.n_hidden)\n",
        "            self.bias_ho = np.random.rand(1,self.n_outputs)\n",
        "        else:\n",
        "            self.bias_ih = np.zeros((1,self.n_hidden))\n",
        "            self.bias_ho = np.zeros((1,self.n_outputs))\n",
        "\n",
        "        self.weight_ih = np.random.normal(0.0, pow(self.n_inputs, -0.5),\n",
        "(self.n_hidden, self.n_inputs))\n",
        "        self.weight_ih = np.transpose(self.weight_ih)\n",
        "        self.weight_ho = np.random.normal(0.0, pow(self.n_hidden, -0.5),\n",
        "(self.n_outputs, self.n_hidden))\n",
        "        self.weight_ho = np.transpose(self.weight_ho)\n",
        "        self.learning_rate = learning_rate\n",
        "        self.ignoreb = ignore_biases\n",
        "\n",
        "    def train_step(self, input,target):\n",
        "        #  INPUT ====> HIDDEN\n",
        "        hidden = np.dot(input, self.weight_ih)\n",
        "        if not self.ignoreb:\n",
        "            hidden = np.add(hidden,self.bias_ih)\n",
        "        for i in range(len(hidden)):\n",
        "            hidden[i] = act_func(hidden[i])\n",
        "    \n",
        "        #  HIDDEN ====> OUTPUT\n",
        "\n",
        "        output = np.dot(hidden,self.weight_ho)\n",
        "        if not self.ignoreb:\n",
        "            output = np.add(output,self.bias_ho)\n",
        "        for i in range(len(output)):\n",
        "            output[i] = act_func(output[i])\n",
        "        \n",
        "        \n",
        "        \n",
        "        \n",
        "        #BACKPROPAGATION\n",
        "        \n",
        "        ## OUTPUT ==> HIDDEN \n",
        "        \n",
        "        output_error = target - output   \n",
        "        d_output = 1\n",
        "        gradient = self.learning_rate*output_error*d_output\n",
        "\n",
        "        if not self.ignoreb:\n",
        "            self.bias_ho = np.add(self.bias_ho,gradient)\n",
        "            \n",
        "        weight_ho_deltas = np.dot(np.transpose(hidden),gradient)\n",
        "        self.weight_ho = np.add(self.weight_ho,weight_ho_deltas)\n",
        "        \n",
        "        ## HIDDEN ==> INPUT\n",
        "        \n",
        "        hidden_error = np.dot(output_error,np.transpose(self.weight_ho))\n",
        "        d_hidden = 1\n",
        "        gradient_H = self.learning_rate*hidden_error*d_hidden\n",
        "\n",
        "        if not self.ignoreb:\n",
        "            self.bias_ih = np.add(self.bias_ih,gradient_H)\n",
        "            \n",
        "        weight_ih_deltas = np.dot(np.transpose(input),gradient_H)\n",
        "        self.weight_ih = np.add(self.weight_ih,weight_ih_deltas)\n",
        "\n",
        "        \n",
        "\n",
        "    def predict(self,input):\n",
        "\n",
        "        hidden = np.dot(input, self.weight_ih)\n",
        "        if not self.ignoreb:\n",
        "            hidden = np.add(hidden,self.bias_ih)\n",
        "        for i in range(len(hidden)):\n",
        "            hidden[i] = act_func(hidden[i])\n",
        "     \n",
        "        #  HIDDEN ====> OUTPUT\n",
        "\n",
        "        output = np.dot(hidden,self.weight_ho)\n",
        "        if not self.ignoreb:\n",
        "            output = np.add(output,self.bias_ho)\n",
        "        for i in range(len(output)):\n",
        "            output[i] = act_func(output[i])\n",
        "\n",
        "        return output[0]\n",
        "    \n",
        "    \n",
        "    def train(self, trainning_set, labels, epochs=1000):\n",
        "        \n",
        "        inputs = np.array(trainning_set)\n",
        "        \n",
        "        \n",
        "        for _ in range(epochs):\n",
        "            index  = np.random.randint(len(trainning_set))\n",
        "            self.train_step(inputs[index],labels[index])\n",
        "\n",
        "\n"
      ],
      "execution_count": 0,
      "outputs": []
    },
    {
      "cell_type": "code",
      "metadata": {
        "id": "vuPZGo9f5ese",
        "colab_type": "code",
        "outputId": "338baff3-306a-48f2-a288-1be568b37620",
        "colab": {
          "base_uri": "https://localhost:8080/",
          "height": 324
        }
      },
      "source": [
        "rede = RedeNeural(1,2,1,0.0005,False)\n",
        "X = [1.0, 2.0, 3.0, 4.0, 5.0]\n",
        "y = [1.0, 4.0, 9.0, 16.0, 25.0]\n",
        "rede.train(X,y,10000)\n",
        "\n",
        "\n",
        "a = (rede.weight_ih[0][0]*rede.weight_ho[0] + \n",
        "     rede.weight_ih[0][1]*rede.weight_ho[1])\n",
        "print('a = {}'.format(a))\n",
        "\n",
        "b = (rede.weight_ho[0]*rede.bias_ih[0][0] + \n",
        "    rede.bias_ih[0][1]*rede.weight_ih[0][1]+\n",
        "    rede.bias_ho[0])\n",
        "print('b = {}'.format(b))\n",
        "\n",
        "ex = np.linspace(0,6,10)\n",
        "ey = a*ex + b\n",
        "\n",
        "plt.axis([0,6,0,30])\n",
        "plt.scatter(X,y,s = 30, c = \"red\")\n",
        "plt.plot(ex,ey)\n"
      ],
      "execution_count": 0,
      "outputs": [
        {
          "output_type": "stream",
          "text": [
            "a = [5.99707484]\n",
            "b = [-7.5631021]\n"
          ],
          "name": "stdout"
        },
        {
          "output_type": "execute_result",
          "data": {
            "text/plain": [
              "[<matplotlib.lines.Line2D at 0x7fa53407add8>]"
            ]
          },
          "metadata": {
            "tags": []
          },
          "execution_count": 17
        },
        {
          "output_type": "display_data",
          "data": {
            "image/png": "[encoded data removed]",
            "text/plain": [
              "<Figure size 432x288 with 1 Axes>"
            ]
          },
          "metadata": {
            "tags": []
          }
        }
      ]
    },
    {
      "cell_type": "code",
      "metadata": {
        "id": "GFeDa9CD6Yft",
        "colab_type": "code",
        "colab": {}
      },
      "source": [
        ""
      ],
      "execution_count": 0,
      "outputs": []
    }
  ]
}